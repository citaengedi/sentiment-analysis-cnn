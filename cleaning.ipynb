{
  "nbformat": 4,
  "nbformat_minor": 0,
  "metadata": {
    "kernelspec": {
      "display_name": "Python 3",
      "language": "python",
      "name": "python3"
    },
    "language_info": {
      "codemirror_mode": {
        "name": "ipython",
        "version": 3
      },
      "file_extension": ".py",
      "mimetype": "text/x-python",
      "name": "python",
      "nbconvert_exporter": "python",
      "pygments_lexer": "ipython3",
      "version": "3.7.4"
    },
    "colab": {
      "name": "cleaning.ipynb",
      "provenance": []
    }
  },
  "cells": [
    {
      "cell_type": "code",
      "metadata": {
        "colab": {
          "base_uri": "https://localhost:8080/"
        },
        "id": "G8_Zn4_UkyNG",
        "outputId": "1f69d584-ab6f-4f33-f879-ff9706634197"
      },
      "source": [
        "pip install emoji"
      ],
      "execution_count": null,
      "outputs": [
        {
          "output_type": "stream",
          "text": [
            "Collecting emoji\n",
            "\u001b[?25l  Downloading https://files.pythonhosted.org/packages/24/fa/b3368f41b95a286f8d300e323449ab4e86b85334c2e0b477e94422b8ed0f/emoji-1.2.0-py3-none-any.whl (131kB)\n",
            "\r\u001b[K     |██▌                             | 10kB 18.3MB/s eta 0:00:01\r\u001b[K     |█████                           | 20kB 20.9MB/s eta 0:00:01\r\u001b[K     |███████▌                        | 30kB 16.0MB/s eta 0:00:01\r\u001b[K     |██████████                      | 40kB 14.6MB/s eta 0:00:01\r\u001b[K     |████████████▌                   | 51kB 7.2MB/s eta 0:00:01\r\u001b[K     |███████████████                 | 61kB 8.4MB/s eta 0:00:01\r\u001b[K     |█████████████████▌              | 71kB 8.9MB/s eta 0:00:01\r\u001b[K     |████████████████████            | 81kB 9.1MB/s eta 0:00:01\r\u001b[K     |██████████████████████▌         | 92kB 9.3MB/s eta 0:00:01\r\u001b[K     |█████████████████████████       | 102kB 7.8MB/s eta 0:00:01\r\u001b[K     |███████████████████████████▌    | 112kB 7.8MB/s eta 0:00:01\r\u001b[K     |██████████████████████████████  | 122kB 7.8MB/s eta 0:00:01\r\u001b[K     |████████████████████████████████| 133kB 7.8MB/s \n",
            "\u001b[?25hInstalling collected packages: emoji\n",
            "Successfully installed emoji-1.2.0\n"
          ],
          "name": "stdout"
        }
      ]
    },
    {
      "cell_type": "code",
      "metadata": {
        "colab": {
          "base_uri": "https://localhost:8080/"
        },
        "id": "6GnvywU1k6GU",
        "outputId": "e9aa0348-c90e-462c-fc86-bedf80bea4d0"
      },
      "source": [
        "from google.colab import drive\n",
        "drive.mount('/content/drive')"
      ],
      "execution_count": null,
      "outputs": [
        {
          "output_type": "stream",
          "text": [
            "Mounted at /content/drive\n"
          ],
          "name": "stdout"
        }
      ]
    },
    {
      "cell_type": "code",
      "metadata": {
        "id": "tQS4KwdKdgsE"
      },
      "source": [
        "import pandas as pd\n",
        "import re\n",
        "import emoji"
      ],
      "execution_count": null,
      "outputs": []
    },
    {
      "cell_type": "code",
      "metadata": {
        "id": "5D274uJYdgsI"
      },
      "source": [
        "df = pd.read_csv('drive/MyDrive/TA/new.csv')"
      ],
      "execution_count": null,
      "outputs": []
    },
    {
      "cell_type": "code",
      "metadata": {
        "colab": {
          "base_uri": "https://localhost:8080/",
          "height": 35
        },
        "id": "6Q5gtmzXdgsJ",
        "outputId": "5cf44c0b-f487-44e5-e2eb-52ad694a108c"
      },
      "source": [
        "df[\"Comment\"][2500]"
      ],
      "execution_count": null,
      "outputs": [
        {
          "output_type": "execute_result",
          "data": {
            "application/vnd.google.colaboratory.intrinsic+json": {
              "type": "string"
            },
            "text/plain": [
              "'12 kl gak salah sama 11 rosegold'"
            ]
          },
          "metadata": {
            "tags": []
          },
          "execution_count": 5
        }
      ]
    },
    {
      "cell_type": "code",
      "metadata": {
        "colab": {
          "base_uri": "https://localhost:8080/",
          "height": 419
        },
        "id": "vUkW4U3jdgsK",
        "outputId": "7b42ca1d-7926-4bae-f922-963b1cddcc74"
      },
      "source": [
        "df.head(3500)"
      ],
      "execution_count": null,
      "outputs": [
        {
          "output_type": "execute_result",
          "data": {
            "text/html": [
              "<div>\n",
              "<style scoped>\n",
              "    .dataframe tbody tr th:only-of-type {\n",
              "        vertical-align: middle;\n",
              "    }\n",
              "\n",
              "    .dataframe tbody tr th {\n",
              "        vertical-align: top;\n",
              "    }\n",
              "\n",
              "    .dataframe thead th {\n",
              "        text-align: right;\n",
              "    }\n",
              "</style>\n",
              "<table border=\"1\" class=\"dataframe\">\n",
              "  <thead>\n",
              "    <tr style=\"text-align: right;\">\n",
              "      <th></th>\n",
              "      <th>Comment</th>\n",
              "      <th>negatif</th>\n",
              "      <th>netral</th>\n",
              "      <th>positif</th>\n",
              "      <th>ekonomi</th>\n",
              "      <th>emosi</th>\n",
              "      <th>performa</th>\n",
              "      <th>fisik_tampilan</th>\n",
              "      <th>layanan</th>\n",
              "      <th>polaritas</th>\n",
              "      <th>aspek</th>\n",
              "    </tr>\n",
              "  </thead>\n",
              "  <tbody>\n",
              "    <tr>\n",
              "      <th>0</th>\n",
              "      <td>kalau harga bukan pertimbangan beli</td>\n",
              "      <td>0</td>\n",
              "      <td>1</td>\n",
              "      <td>0</td>\n",
              "      <td>1</td>\n",
              "      <td>0</td>\n",
              "      <td>0</td>\n",
              "      <td>0</td>\n",
              "      <td>0</td>\n",
              "      <td>netral</td>\n",
              "      <td>ekonomi</td>\n",
              "    </tr>\n",
              "    <tr>\n",
              "      <th>1</th>\n",
              "      <td>smsg ungu kok lucu si</td>\n",
              "      <td>0</td>\n",
              "      <td>0</td>\n",
              "      <td>1</td>\n",
              "      <td>0</td>\n",
              "      <td>0</td>\n",
              "      <td>0</td>\n",
              "      <td>1</td>\n",
              "      <td>0</td>\n",
              "      <td>positif</td>\n",
              "      <td>fisik_tampilan</td>\n",
              "    </tr>\n",
              "    <tr>\n",
              "      <th>2</th>\n",
              "      <td>tuker tambah ambk percuma sing kyk ngene raiso...</td>\n",
              "      <td>1</td>\n",
              "      <td>0</td>\n",
              "      <td>0</td>\n",
              "      <td>0</td>\n",
              "      <td>1</td>\n",
              "      <td>0</td>\n",
              "      <td>0</td>\n",
              "      <td>0</td>\n",
              "      <td>negatif</td>\n",
              "      <td>emosi</td>\n",
              "    </tr>\n",
              "    <tr>\n",
              "      <th>3</th>\n",
              "      <td>ini bukan sih lucu bgt</td>\n",
              "      <td>0</td>\n",
              "      <td>0</td>\n",
              "      <td>1</td>\n",
              "      <td>0</td>\n",
              "      <td>0</td>\n",
              "      <td>0</td>\n",
              "      <td>1</td>\n",
              "      <td>0</td>\n",
              "      <td>positif</td>\n",
              "      <td>fisik_tampilan</td>\n",
              "    </tr>\n",
              "    <tr>\n",
              "      <th>4</th>\n",
              "      <td>paling aman dari segi spek dan juga layanan af...</td>\n",
              "      <td>0</td>\n",
              "      <td>0</td>\n",
              "      <td>1</td>\n",
              "      <td>1</td>\n",
              "      <td>0</td>\n",
              "      <td>0</td>\n",
              "      <td>0</td>\n",
              "      <td>0</td>\n",
              "      <td>positif</td>\n",
              "      <td>ekonomi</td>\n",
              "    </tr>\n",
              "    <tr>\n",
              "      <th>...</th>\n",
              "      <td>...</td>\n",
              "      <td>...</td>\n",
              "      <td>...</td>\n",
              "      <td>...</td>\n",
              "      <td>...</td>\n",
              "      <td>...</td>\n",
              "      <td>...</td>\n",
              "      <td>...</td>\n",
              "      <td>...</td>\n",
              "      <td>...</td>\n",
              "      <td>...</td>\n",
              "    </tr>\n",
              "    <tr>\n",
              "      <th>2952</th>\n",
              "      <td>fitur superdart 8 saya tidak berfungsi saya su...</td>\n",
              "      <td>1</td>\n",
              "      <td>0</td>\n",
              "      <td>0</td>\n",
              "      <td>0</td>\n",
              "      <td>0</td>\n",
              "      <td>1</td>\n",
              "      <td>0</td>\n",
              "      <td>0</td>\n",
              "      <td>negatif</td>\n",
              "      <td>performa</td>\n",
              "    </tr>\n",
              "    <tr>\n",
              "      <th>2953</th>\n",
              "      <td>mamaku juga klo gk pake kamera ig jelek</td>\n",
              "      <td>1</td>\n",
              "      <td>0</td>\n",
              "      <td>0</td>\n",
              "      <td>0</td>\n",
              "      <td>0</td>\n",
              "      <td>1</td>\n",
              "      <td>0</td>\n",
              "      <td>0</td>\n",
              "      <td>negatif</td>\n",
              "      <td>performa</td>\n",
              "    </tr>\n",
              "    <tr>\n",
              "      <th>2954</th>\n",
              "      <td>c15 batre nya awet bgt asal ga dimainin pas la...</td>\n",
              "      <td>0</td>\n",
              "      <td>0</td>\n",
              "      <td>1</td>\n",
              "      <td>0</td>\n",
              "      <td>0</td>\n",
              "      <td>1</td>\n",
              "      <td>0</td>\n",
              "      <td>0</td>\n",
              "      <td>positif</td>\n",
              "      <td>performa</td>\n",
              "    </tr>\n",
              "    <tr>\n",
              "      <th>2955</th>\n",
              "      <td>pakai ga sampe setahun banyak masalah baterai</td>\n",
              "      <td>1</td>\n",
              "      <td>0</td>\n",
              "      <td>0</td>\n",
              "      <td>0</td>\n",
              "      <td>0</td>\n",
              "      <td>1</td>\n",
              "      <td>0</td>\n",
              "      <td>0</td>\n",
              "      <td>negatif</td>\n",
              "      <td>performa</td>\n",
              "    </tr>\n",
              "    <tr>\n",
              "      <th>2956</th>\n",
              "      <td>ini tapi kurang bagus fotonya pake 3 hihihi</td>\n",
              "      <td>1</td>\n",
              "      <td>0</td>\n",
              "      <td>0</td>\n",
              "      <td>0</td>\n",
              "      <td>0</td>\n",
              "      <td>1</td>\n",
              "      <td>0</td>\n",
              "      <td>0</td>\n",
              "      <td>negatif</td>\n",
              "      <td>performa</td>\n",
              "    </tr>\n",
              "  </tbody>\n",
              "</table>\n",
              "<p>2957 rows × 11 columns</p>\n",
              "</div>"
            ],
            "text/plain": [
              "                                                Comment  ...           aspek\n",
              "0                   kalau harga bukan pertimbangan beli  ...         ekonomi\n",
              "1                                 smsg ungu kok lucu si  ...  fisik_tampilan\n",
              "2     tuker tambah ambk percuma sing kyk ngene raiso...  ...           emosi\n",
              "3                                ini bukan sih lucu bgt  ...  fisik_tampilan\n",
              "4     paling aman dari segi spek dan juga layanan af...  ...         ekonomi\n",
              "...                                                 ...  ...             ...\n",
              "2952  fitur superdart 8 saya tidak berfungsi saya su...  ...        performa\n",
              "2953            mamaku juga klo gk pake kamera ig jelek  ...        performa\n",
              "2954  c15 batre nya awet bgt asal ga dimainin pas la...  ...        performa\n",
              "2955      pakai ga sampe setahun banyak masalah baterai  ...        performa\n",
              "2956        ini tapi kurang bagus fotonya pake 3 hihihi  ...        performa\n",
              "\n",
              "[2957 rows x 11 columns]"
            ]
          },
          "metadata": {
            "tags": []
          },
          "execution_count": 6
        }
      ]
    },
    {
      "cell_type": "code",
      "metadata": {
        "id": "BwJvLsjUdgsL"
      },
      "source": [
        "def replace_mention(string):\n",
        "    tokens = ['' if token.startswith('@') else token for token in str(string).split()]\n",
        "    return ' '.join(tokens)"
      ],
      "execution_count": null,
      "outputs": []
    },
    {
      "cell_type": "code",
      "metadata": {
        "id": "649RF6csdgsL"
      },
      "source": [
        "def replace_URL(string):\n",
        "    tokens = ['' if 'http' in token else token for token in str(string).split()]\n",
        "    return ' '.join(tokens)"
      ],
      "execution_count": null,
      "outputs": []
    },
    {
      "cell_type": "code",
      "metadata": {
        "id": "Saq9_dvadgsM"
      },
      "source": [
        "def remove_punctuation(string):\n",
        "    return re.sub(r'[^\\w\\s]','', string)"
      ],
      "execution_count": null,
      "outputs": []
    },
    {
      "cell_type": "code",
      "metadata": {
        "id": "NmdLIJn0dgsM"
      },
      "source": [
        "def replace_multioccurences(string):\n",
        "    return re.sub(r'(.)\\1{2,}', r'\\1\\1', string)"
      ],
      "execution_count": null,
      "outputs": []
    },
    {
      "cell_type": "code",
      "metadata": {
        "id": "nBA7ijMbdgsN"
      },
      "source": [
        "def replace_hashtag(string):\n",
        "    tokens = ['' if token.startswith('#') else token for token in str(string).split()]\n",
        "    return ' '.join(tokens)"
      ],
      "execution_count": null,
      "outputs": []
    },
    {
      "cell_type": "code",
      "metadata": {
        "id": "-tWwYEpqdgsO"
      },
      "source": [
        "def replace_emoji(string):\n",
        "    tokens = ''.join(c for c in string if c not in emoji.UNICODE_EMOJI)\n",
        "    return tokens"
      ],
      "execution_count": null,
      "outputs": []
    },
    {
      "cell_type": "code",
      "metadata": {
        "id": "m8OeOkLgdgsP"
      },
      "source": [
        "def strip_non_ascii(string):\n",
        "    ''' Returns the string without non ASCII characters'''\n",
        "    stripped = (c for c in string if 0 < ord(c) < 127)\n",
        "    return ''.join(stripped)"
      ],
      "execution_count": null,
      "outputs": []
    },
    {
      "cell_type": "code",
      "metadata": {
        "id": "PZ4H1wCUdgsP"
      },
      "source": [
        "def preprocess(string):\n",
        "    df['Comment'] = df['Comment'].apply(replace_mention)\n",
        "    df['Comment'] = df['Comment'].apply(replace_hashtag)\n",
        "    df['Comment'] = df['Comment'].apply(replace_URL)\n",
        "    df['Comment'] = df['Comment'].apply(remove_punctuation)\n",
        "    df['Comment'] = df['Comment'].apply(replace_multioccurences)\n",
        "    df['Comment'] = df['Comment'].str.replace('[^\\w\\s@#/:%.,-]', ' ', flags=re.UNICODE)\n",
        "    df['Comment'] = df['Comment'].apply(replace_emoji)\n",
        "    df['Comment'] = df['Comment'].apply(strip_non_ascii)\n",
        "    df['Comment'] = df['Comment'].str.lower()\n",
        "    return df"
      ],
      "execution_count": null,
      "outputs": []
    },
    {
      "cell_type": "code",
      "metadata": {
        "id": "GXxQZLdrdgsQ"
      },
      "source": [
        "df_clean = preprocess(df)"
      ],
      "execution_count": null,
      "outputs": []
    },
    {
      "cell_type": "code",
      "metadata": {
        "colab": {
          "base_uri": "https://localhost:8080/",
          "height": 35
        },
        "id": "t5j6IPwadgsQ",
        "outputId": "9d5675c8-da87-4b4a-970c-b19b77248b6e"
      },
      "source": [
        "df_clean['Comment'][45]"
      ],
      "execution_count": null,
      "outputs": [
        {
          "output_type": "execute_result",
          "data": {
            "application/vnd.google.colaboratory.intrinsic+json": {
              "type": "string"
            },
            "text/plain": [
              "'maaf enggak tau tapi kata gue ganti atau aja terbaru kece banget'"
            ]
          },
          "metadata": {
            "tags": []
          },
          "execution_count": 16
        }
      ]
    },
    {
      "cell_type": "code",
      "metadata": {
        "colab": {
          "base_uri": "https://localhost:8080/",
          "height": 419
        },
        "id": "wKqfdMNCdgsQ",
        "outputId": "af950624-3b19-4f10-b502-cb3e4ba3fcb8"
      },
      "source": [
        "df_clean.head(3500)"
      ],
      "execution_count": null,
      "outputs": [
        {
          "output_type": "execute_result",
          "data": {
            "text/html": [
              "<div>\n",
              "<style scoped>\n",
              "    .dataframe tbody tr th:only-of-type {\n",
              "        vertical-align: middle;\n",
              "    }\n",
              "\n",
              "    .dataframe tbody tr th {\n",
              "        vertical-align: top;\n",
              "    }\n",
              "\n",
              "    .dataframe thead th {\n",
              "        text-align: right;\n",
              "    }\n",
              "</style>\n",
              "<table border=\"1\" class=\"dataframe\">\n",
              "  <thead>\n",
              "    <tr style=\"text-align: right;\">\n",
              "      <th></th>\n",
              "      <th>Comment</th>\n",
              "      <th>negatif</th>\n",
              "      <th>netral</th>\n",
              "      <th>positif</th>\n",
              "      <th>ekonomi</th>\n",
              "      <th>emosi</th>\n",
              "      <th>performa</th>\n",
              "      <th>fisik_tampilan</th>\n",
              "      <th>layanan</th>\n",
              "      <th>polaritas</th>\n",
              "      <th>aspek</th>\n",
              "    </tr>\n",
              "  </thead>\n",
              "  <tbody>\n",
              "    <tr>\n",
              "      <th>0</th>\n",
              "      <td>kalau harga bukan pertimbangan beli</td>\n",
              "      <td>0</td>\n",
              "      <td>1</td>\n",
              "      <td>0</td>\n",
              "      <td>1</td>\n",
              "      <td>0</td>\n",
              "      <td>0</td>\n",
              "      <td>0</td>\n",
              "      <td>0</td>\n",
              "      <td>netral</td>\n",
              "      <td>ekonomi</td>\n",
              "    </tr>\n",
              "    <tr>\n",
              "      <th>1</th>\n",
              "      <td>smsg ungu kok lucu si</td>\n",
              "      <td>0</td>\n",
              "      <td>0</td>\n",
              "      <td>1</td>\n",
              "      <td>0</td>\n",
              "      <td>0</td>\n",
              "      <td>0</td>\n",
              "      <td>1</td>\n",
              "      <td>0</td>\n",
              "      <td>positif</td>\n",
              "      <td>fisik_tampilan</td>\n",
              "    </tr>\n",
              "    <tr>\n",
              "      <th>2</th>\n",
              "      <td>tuker tambah ambk percuma sing kyk ngene raiso...</td>\n",
              "      <td>1</td>\n",
              "      <td>0</td>\n",
              "      <td>0</td>\n",
              "      <td>0</td>\n",
              "      <td>1</td>\n",
              "      <td>0</td>\n",
              "      <td>0</td>\n",
              "      <td>0</td>\n",
              "      <td>negatif</td>\n",
              "      <td>emosi</td>\n",
              "    </tr>\n",
              "    <tr>\n",
              "      <th>3</th>\n",
              "      <td>ini bukan sih lucu bgt</td>\n",
              "      <td>0</td>\n",
              "      <td>0</td>\n",
              "      <td>1</td>\n",
              "      <td>0</td>\n",
              "      <td>0</td>\n",
              "      <td>0</td>\n",
              "      <td>1</td>\n",
              "      <td>0</td>\n",
              "      <td>positif</td>\n",
              "      <td>fisik_tampilan</td>\n",
              "    </tr>\n",
              "    <tr>\n",
              "      <th>4</th>\n",
              "      <td>paling aman dari segi spek dan juga layanan af...</td>\n",
              "      <td>0</td>\n",
              "      <td>0</td>\n",
              "      <td>1</td>\n",
              "      <td>1</td>\n",
              "      <td>0</td>\n",
              "      <td>0</td>\n",
              "      <td>0</td>\n",
              "      <td>0</td>\n",
              "      <td>positif</td>\n",
              "      <td>ekonomi</td>\n",
              "    </tr>\n",
              "    <tr>\n",
              "      <th>...</th>\n",
              "      <td>...</td>\n",
              "      <td>...</td>\n",
              "      <td>...</td>\n",
              "      <td>...</td>\n",
              "      <td>...</td>\n",
              "      <td>...</td>\n",
              "      <td>...</td>\n",
              "      <td>...</td>\n",
              "      <td>...</td>\n",
              "      <td>...</td>\n",
              "      <td>...</td>\n",
              "    </tr>\n",
              "    <tr>\n",
              "      <th>2952</th>\n",
              "      <td>fitur superdart 8 saya tidak berfungsi saya su...</td>\n",
              "      <td>1</td>\n",
              "      <td>0</td>\n",
              "      <td>0</td>\n",
              "      <td>0</td>\n",
              "      <td>0</td>\n",
              "      <td>1</td>\n",
              "      <td>0</td>\n",
              "      <td>0</td>\n",
              "      <td>negatif</td>\n",
              "      <td>performa</td>\n",
              "    </tr>\n",
              "    <tr>\n",
              "      <th>2953</th>\n",
              "      <td>mamaku juga klo gk pake kamera ig jelek</td>\n",
              "      <td>1</td>\n",
              "      <td>0</td>\n",
              "      <td>0</td>\n",
              "      <td>0</td>\n",
              "      <td>0</td>\n",
              "      <td>1</td>\n",
              "      <td>0</td>\n",
              "      <td>0</td>\n",
              "      <td>negatif</td>\n",
              "      <td>performa</td>\n",
              "    </tr>\n",
              "    <tr>\n",
              "      <th>2954</th>\n",
              "      <td>c15 batre nya awet bgt asal ga dimainin pas la...</td>\n",
              "      <td>0</td>\n",
              "      <td>0</td>\n",
              "      <td>1</td>\n",
              "      <td>0</td>\n",
              "      <td>0</td>\n",
              "      <td>1</td>\n",
              "      <td>0</td>\n",
              "      <td>0</td>\n",
              "      <td>positif</td>\n",
              "      <td>performa</td>\n",
              "    </tr>\n",
              "    <tr>\n",
              "      <th>2955</th>\n",
              "      <td>pakai ga sampe setahun banyak masalah baterai</td>\n",
              "      <td>1</td>\n",
              "      <td>0</td>\n",
              "      <td>0</td>\n",
              "      <td>0</td>\n",
              "      <td>0</td>\n",
              "      <td>1</td>\n",
              "      <td>0</td>\n",
              "      <td>0</td>\n",
              "      <td>negatif</td>\n",
              "      <td>performa</td>\n",
              "    </tr>\n",
              "    <tr>\n",
              "      <th>2956</th>\n",
              "      <td>ini tapi kurang bagus fotonya pake 3 hihihi</td>\n",
              "      <td>1</td>\n",
              "      <td>0</td>\n",
              "      <td>0</td>\n",
              "      <td>0</td>\n",
              "      <td>0</td>\n",
              "      <td>1</td>\n",
              "      <td>0</td>\n",
              "      <td>0</td>\n",
              "      <td>negatif</td>\n",
              "      <td>performa</td>\n",
              "    </tr>\n",
              "  </tbody>\n",
              "</table>\n",
              "<p>2957 rows × 11 columns</p>\n",
              "</div>"
            ],
            "text/plain": [
              "                                                Comment  ...           aspek\n",
              "0                   kalau harga bukan pertimbangan beli  ...         ekonomi\n",
              "1                                 smsg ungu kok lucu si  ...  fisik_tampilan\n",
              "2     tuker tambah ambk percuma sing kyk ngene raiso...  ...           emosi\n",
              "3                                ini bukan sih lucu bgt  ...  fisik_tampilan\n",
              "4     paling aman dari segi spek dan juga layanan af...  ...         ekonomi\n",
              "...                                                 ...  ...             ...\n",
              "2952  fitur superdart 8 saya tidak berfungsi saya su...  ...        performa\n",
              "2953            mamaku juga klo gk pake kamera ig jelek  ...        performa\n",
              "2954  c15 batre nya awet bgt asal ga dimainin pas la...  ...        performa\n",
              "2955      pakai ga sampe setahun banyak masalah baterai  ...        performa\n",
              "2956        ini tapi kurang bagus fotonya pake 3 hihihi  ...        performa\n",
              "\n",
              "[2957 rows x 11 columns]"
            ]
          },
          "metadata": {
            "tags": []
          },
          "execution_count": 17
        }
      ]
    },
    {
      "cell_type": "code",
      "metadata": {
        "id": "QfczUOPXdgsR"
      },
      "source": [
        "df_clean.to_csv ('drive/MyDrive/TA/newera/tanpa sw.csv', index = False, header=True)"
      ],
      "execution_count": null,
      "outputs": []
    },
    {
      "cell_type": "code",
      "metadata": {
        "id": "LkFgB2wwdgsR"
      },
      "source": [
        "sw = ['redmi','nder','note','vivo','yg','di','asus','zenfone','hp','poco','aku','pro','m12',\n",
        "      'y20','c25','a15','yang','ip','realme','xiaomi','infinix','10','a32','a52','a72', 'a31',\n",
        "      'm3','samsung','ip','a51',',','oppo','9t','oneplus','sih','itu','iphone','xs','galaxy','xr']"
      ],
      "execution_count": null,
      "outputs": []
    },
    {
      "cell_type": "code",
      "metadata": {
        "id": "S1624uLfdgsS"
      },
      "source": [
        "def stopwords(text):\n",
        "    text = [word.lower() for word in text.split() if word.lower() not in sw]\n",
        "    return \" \".join(text)"
      ],
      "execution_count": null,
      "outputs": []
    },
    {
      "cell_type": "code",
      "metadata": {
        "id": "561uhl1fdgsT"
      },
      "source": [
        "df['Comment'] = df['Comment'].apply(stopwords)"
      ],
      "execution_count": null,
      "outputs": []
    },
    {
      "cell_type": "code",
      "metadata": {
        "colab": {
          "base_uri": "https://localhost:8080/"
        },
        "id": "dDGEr2vFdgsT",
        "outputId": "885f09ef-2d5a-407a-f395-ed834a27117d"
      },
      "source": [
        "df['Comment'].head(200)"
      ],
      "execution_count": null,
      "outputs": [
        {
          "output_type": "execute_result",
          "data": {
            "text/plain": [
              "0                    kalau harga bukan pertimbangan beli\n",
              "1                                  smsg ungu kok lucu si\n",
              "2      tuker tambah ambk percuma sing kyk ngene raiso...\n",
              "3                                     ini bukan lucu bgt\n",
              "4      paling aman dari segi spek dan juga layanan af...\n",
              "                             ...                        \n",
              "195                               shida ya ni overpriced\n",
              "196                             cok mending atau iphone8\n",
              "197    udah punya malah pengen dasar krn desain nya l...\n",
              "198                                         yuk bisa yuk\n",
              "199                lebih worth bang bisa ngangkat telpun\n",
              "Name: Comment, Length: 200, dtype: object"
            ]
          },
          "metadata": {
            "tags": []
          },
          "execution_count": 26
        }
      ]
    },
    {
      "cell_type": "code",
      "metadata": {
        "colab": {
          "base_uri": "https://localhost:8080/",
          "height": 708
        },
        "id": "lIG02_ZCn0I1",
        "outputId": "9173e9d9-7a8e-406d-ec8b-3e7124ed7184"
      },
      "source": [
        "df1 = df.drop_duplicates(subset='Comment', keep='first', inplace=False, ignore_index=False)\n",
        "df1.dropna()"
      ],
      "execution_count": null,
      "outputs": [
        {
          "output_type": "execute_result",
          "data": {
            "text/html": [
              "<div>\n",
              "<style scoped>\n",
              "    .dataframe tbody tr th:only-of-type {\n",
              "        vertical-align: middle;\n",
              "    }\n",
              "\n",
              "    .dataframe tbody tr th {\n",
              "        vertical-align: top;\n",
              "    }\n",
              "\n",
              "    .dataframe thead th {\n",
              "        text-align: right;\n",
              "    }\n",
              "</style>\n",
              "<table border=\"1\" class=\"dataframe\">\n",
              "  <thead>\n",
              "    <tr style=\"text-align: right;\">\n",
              "      <th></th>\n",
              "      <th>Comment</th>\n",
              "      <th>negatif</th>\n",
              "      <th>netral</th>\n",
              "      <th>positif</th>\n",
              "      <th>ekonomi</th>\n",
              "      <th>emosi</th>\n",
              "      <th>performa</th>\n",
              "      <th>fisik_tampilan</th>\n",
              "      <th>layanan</th>\n",
              "      <th>polaritas</th>\n",
              "      <th>aspek</th>\n",
              "    </tr>\n",
              "  </thead>\n",
              "  <tbody>\n",
              "    <tr>\n",
              "      <th>0</th>\n",
              "      <td>kalau harga bukan pertimbangan beli</td>\n",
              "      <td>0</td>\n",
              "      <td>1</td>\n",
              "      <td>0</td>\n",
              "      <td>1</td>\n",
              "      <td>0</td>\n",
              "      <td>0</td>\n",
              "      <td>0</td>\n",
              "      <td>0</td>\n",
              "      <td>netral</td>\n",
              "      <td>ekonomi</td>\n",
              "    </tr>\n",
              "    <tr>\n",
              "      <th>1</th>\n",
              "      <td>smsg ungu kok lucu si</td>\n",
              "      <td>0</td>\n",
              "      <td>0</td>\n",
              "      <td>1</td>\n",
              "      <td>0</td>\n",
              "      <td>0</td>\n",
              "      <td>0</td>\n",
              "      <td>1</td>\n",
              "      <td>0</td>\n",
              "      <td>positif</td>\n",
              "      <td>fisik_tampilan</td>\n",
              "    </tr>\n",
              "    <tr>\n",
              "      <th>2</th>\n",
              "      <td>tuker tambah ambk percuma sing kyk ngene raiso...</td>\n",
              "      <td>1</td>\n",
              "      <td>0</td>\n",
              "      <td>0</td>\n",
              "      <td>0</td>\n",
              "      <td>1</td>\n",
              "      <td>0</td>\n",
              "      <td>0</td>\n",
              "      <td>0</td>\n",
              "      <td>negatif</td>\n",
              "      <td>emosi</td>\n",
              "    </tr>\n",
              "    <tr>\n",
              "      <th>3</th>\n",
              "      <td>ini bukan lucu bgt</td>\n",
              "      <td>0</td>\n",
              "      <td>0</td>\n",
              "      <td>1</td>\n",
              "      <td>0</td>\n",
              "      <td>0</td>\n",
              "      <td>0</td>\n",
              "      <td>1</td>\n",
              "      <td>0</td>\n",
              "      <td>positif</td>\n",
              "      <td>fisik_tampilan</td>\n",
              "    </tr>\n",
              "    <tr>\n",
              "      <th>4</th>\n",
              "      <td>paling aman dari segi spek dan juga layanan af...</td>\n",
              "      <td>0</td>\n",
              "      <td>0</td>\n",
              "      <td>1</td>\n",
              "      <td>1</td>\n",
              "      <td>0</td>\n",
              "      <td>0</td>\n",
              "      <td>0</td>\n",
              "      <td>0</td>\n",
              "      <td>positif</td>\n",
              "      <td>ekonomi</td>\n",
              "    </tr>\n",
              "    <tr>\n",
              "      <th>...</th>\n",
              "      <td>...</td>\n",
              "      <td>...</td>\n",
              "      <td>...</td>\n",
              "      <td>...</td>\n",
              "      <td>...</td>\n",
              "      <td>...</td>\n",
              "      <td>...</td>\n",
              "      <td>...</td>\n",
              "      <td>...</td>\n",
              "      <td>...</td>\n",
              "      <td>...</td>\n",
              "    </tr>\n",
              "    <tr>\n",
              "      <th>2952</th>\n",
              "      <td>fitur superdart 8 saya tidak berfungsi saya su...</td>\n",
              "      <td>1</td>\n",
              "      <td>0</td>\n",
              "      <td>0</td>\n",
              "      <td>0</td>\n",
              "      <td>0</td>\n",
              "      <td>1</td>\n",
              "      <td>0</td>\n",
              "      <td>0</td>\n",
              "      <td>negatif</td>\n",
              "      <td>performa</td>\n",
              "    </tr>\n",
              "    <tr>\n",
              "      <th>2953</th>\n",
              "      <td>mamaku juga klo gk pake kamera ig jelek</td>\n",
              "      <td>1</td>\n",
              "      <td>0</td>\n",
              "      <td>0</td>\n",
              "      <td>0</td>\n",
              "      <td>0</td>\n",
              "      <td>1</td>\n",
              "      <td>0</td>\n",
              "      <td>0</td>\n",
              "      <td>negatif</td>\n",
              "      <td>performa</td>\n",
              "    </tr>\n",
              "    <tr>\n",
              "      <th>2954</th>\n",
              "      <td>c15 batre nya awet bgt asal ga dimainin pas la...</td>\n",
              "      <td>0</td>\n",
              "      <td>0</td>\n",
              "      <td>1</td>\n",
              "      <td>0</td>\n",
              "      <td>0</td>\n",
              "      <td>1</td>\n",
              "      <td>0</td>\n",
              "      <td>0</td>\n",
              "      <td>positif</td>\n",
              "      <td>performa</td>\n",
              "    </tr>\n",
              "    <tr>\n",
              "      <th>2955</th>\n",
              "      <td>pakai ga sampe setahun banyak masalah baterai</td>\n",
              "      <td>1</td>\n",
              "      <td>0</td>\n",
              "      <td>0</td>\n",
              "      <td>0</td>\n",
              "      <td>0</td>\n",
              "      <td>1</td>\n",
              "      <td>0</td>\n",
              "      <td>0</td>\n",
              "      <td>negatif</td>\n",
              "      <td>performa</td>\n",
              "    </tr>\n",
              "    <tr>\n",
              "      <th>2956</th>\n",
              "      <td>ini tapi kurang bagus fotonya pake 3 hihihi</td>\n",
              "      <td>1</td>\n",
              "      <td>0</td>\n",
              "      <td>0</td>\n",
              "      <td>0</td>\n",
              "      <td>0</td>\n",
              "      <td>1</td>\n",
              "      <td>0</td>\n",
              "      <td>0</td>\n",
              "      <td>negatif</td>\n",
              "      <td>performa</td>\n",
              "    </tr>\n",
              "  </tbody>\n",
              "</table>\n",
              "<p>2911 rows × 11 columns</p>\n",
              "</div>"
            ],
            "text/plain": [
              "                                                Comment  ...           aspek\n",
              "0                   kalau harga bukan pertimbangan beli  ...         ekonomi\n",
              "1                                 smsg ungu kok lucu si  ...  fisik_tampilan\n",
              "2     tuker tambah ambk percuma sing kyk ngene raiso...  ...           emosi\n",
              "3                                    ini bukan lucu bgt  ...  fisik_tampilan\n",
              "4     paling aman dari segi spek dan juga layanan af...  ...         ekonomi\n",
              "...                                                 ...  ...             ...\n",
              "2952  fitur superdart 8 saya tidak berfungsi saya su...  ...        performa\n",
              "2953            mamaku juga klo gk pake kamera ig jelek  ...        performa\n",
              "2954  c15 batre nya awet bgt asal ga dimainin pas la...  ...        performa\n",
              "2955      pakai ga sampe setahun banyak masalah baterai  ...        performa\n",
              "2956        ini tapi kurang bagus fotonya pake 3 hihihi  ...        performa\n",
              "\n",
              "[2911 rows x 11 columns]"
            ]
          },
          "metadata": {
            "tags": []
          },
          "execution_count": 30
        }
      ]
    },
    {
      "cell_type": "code",
      "metadata": {
        "id": "2gAmLpfmdgsU"
      },
      "source": [
        "df1.to_csv ('newfix.csv', index = False, header=True)"
      ],
      "execution_count": null,
      "outputs": []
    },
    {
      "cell_type": "code",
      "metadata": {
        "id": "s0AqLv97dgsU"
      },
      "source": [
        "df.to_csv (r'C:\\Users\\user\\polaritas.csv', index = False, header=True)"
      ],
      "execution_count": null,
      "outputs": []
    },
    {
      "cell_type": "code",
      "metadata": {
        "id": "skd2MTwvdgsU"
      },
      "source": [
        ""
      ],
      "execution_count": null,
      "outputs": []
    }
  ]
}