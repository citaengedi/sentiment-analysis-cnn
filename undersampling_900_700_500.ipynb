{
  "nbformat": 4,
  "nbformat_minor": 0,
  "metadata": {
    "colab": {
      "name": "undersampling 900-700-500",
      "provenance": [],
      "collapsed_sections": []
    },
    "kernelspec": {
      "name": "python3",
      "display_name": "Python 3"
    },
    "language_info": {
      "name": "python"
    }
  },
  "cells": [
    {
      "cell_type": "code",
      "metadata": {
        "colab": {
          "base_uri": "https://localhost:8080/",
          "height": 419
        },
        "id": "RZwcUtxLt-t_",
        "outputId": "e5e9deda-f01d-44fb-9534-1caadcb9c8c9"
      },
      "source": [
        "import numpy as np\n",
        "import pandas as pd\n",
        "\n",
        "data = pd.read_csv('drive/MyDrive/TA/newera/datatrain - 900.csv')\n",
        "data"
      ],
      "execution_count": null,
      "outputs": [
        {
          "output_type": "execute_result",
          "data": {
            "text/html": [
              "<div>\n",
              "<style scoped>\n",
              "    .dataframe tbody tr th:only-of-type {\n",
              "        vertical-align: middle;\n",
              "    }\n",
              "\n",
              "    .dataframe tbody tr th {\n",
              "        vertical-align: top;\n",
              "    }\n",
              "\n",
              "    .dataframe thead th {\n",
              "        text-align: right;\n",
              "    }\n",
              "</style>\n",
              "<table border=\"1\" class=\"dataframe\">\n",
              "  <thead>\n",
              "    <tr style=\"text-align: right;\">\n",
              "      <th></th>\n",
              "      <th>Comment</th>\n",
              "      <th>ekonomi</th>\n",
              "      <th>emosi</th>\n",
              "      <th>performa</th>\n",
              "      <th>fisik_tampilan</th>\n",
              "      <th>layanan</th>\n",
              "      <th>aspek</th>\n",
              "    </tr>\n",
              "  </thead>\n",
              "  <tbody>\n",
              "    <tr>\n",
              "      <th>0</th>\n",
              "      <td>sejauh ini gua rekomen dari brand spesifikasi ...</td>\n",
              "      <td>1</td>\n",
              "      <td>0</td>\n",
              "      <td>0</td>\n",
              "      <td>0</td>\n",
              "      <td>0</td>\n",
              "      <td>ekonomi</td>\n",
              "    </tr>\n",
              "    <tr>\n",
              "      <th>1</th>\n",
              "      <td>500 mah tapi konsumsi tenagannya efisien banget</td>\n",
              "      <td>1</td>\n",
              "      <td>0</td>\n",
              "      <td>0</td>\n",
              "      <td>0</td>\n",
              "      <td>0</td>\n",
              "      <td>ekonomi</td>\n",
              "    </tr>\n",
              "    <tr>\n",
              "      <th>2</th>\n",
              "      <td>c11 1200 termasuk murah ga nie</td>\n",
              "      <td>1</td>\n",
              "      <td>0</td>\n",
              "      <td>0</td>\n",
              "      <td>0</td>\n",
              "      <td>0</td>\n",
              "      <td>ekonomi</td>\n",
              "    </tr>\n",
              "    <tr>\n",
              "      <th>3</th>\n",
              "      <td>bini gw blm kasih nih ada bbrp gadget nganggur...</td>\n",
              "      <td>1</td>\n",
              "      <td>0</td>\n",
              "      <td>0</td>\n",
              "      <td>0</td>\n",
              "      <td>0</td>\n",
              "      <td>ekonomi</td>\n",
              "    </tr>\n",
              "    <tr>\n",
              "      <th>4</th>\n",
              "      <td>dia nak 12 tapi sekarang pun takde bajet nak t...</td>\n",
              "      <td>1</td>\n",
              "      <td>0</td>\n",
              "      <td>0</td>\n",
              "      <td>0</td>\n",
              "      <td>0</td>\n",
              "      <td>ekonomi</td>\n",
              "    </tr>\n",
              "    <tr>\n",
              "      <th>...</th>\n",
              "      <td>...</td>\n",
              "      <td>...</td>\n",
              "      <td>...</td>\n",
              "      <td>...</td>\n",
              "      <td>...</td>\n",
              "      <td>...</td>\n",
              "      <td>...</td>\n",
              "    </tr>\n",
              "    <tr>\n",
              "      <th>2482</th>\n",
              "      <td>syg max dipake drakoran baterainya awet gak ya</td>\n",
              "      <td>0</td>\n",
              "      <td>0</td>\n",
              "      <td>1</td>\n",
              "      <td>0</td>\n",
              "      <td>0</td>\n",
              "      <td>performa</td>\n",
              "    </tr>\n",
              "    <tr>\n",
              "      <th>2483</th>\n",
              "      <td>30 desember 2019 foto pake 3s 2016</td>\n",
              "      <td>0</td>\n",
              "      <td>0</td>\n",
              "      <td>1</td>\n",
              "      <td>0</td>\n",
              "      <td>0</td>\n",
              "      <td>performa</td>\n",
              "    </tr>\n",
              "    <tr>\n",
              "      <th>2484</th>\n",
              "      <td>3 kalo suka kamera belakang kalo suka kamera d...</td>\n",
              "      <td>0</td>\n",
              "      <td>0</td>\n",
              "      <td>1</td>\n",
              "      <td>0</td>\n",
              "      <td>0</td>\n",
              "      <td>performa</td>\n",
              "    </tr>\n",
              "    <tr>\n",
              "      <th>2485</th>\n",
              "      <td>9 enak buat main genshin jarang lag</td>\n",
              "      <td>0</td>\n",
              "      <td>0</td>\n",
              "      <td>1</td>\n",
              "      <td>0</td>\n",
              "      <td>0</td>\n",
              "      <td>performa</td>\n",
              "    </tr>\n",
              "    <tr>\n",
              "      <th>2486</th>\n",
              "      <td>aduh memorinya jauh bgt bedanya soalnya 64gb g...</td>\n",
              "      <td>0</td>\n",
              "      <td>0</td>\n",
              "      <td>1</td>\n",
              "      <td>0</td>\n",
              "      <td>0</td>\n",
              "      <td>performa</td>\n",
              "    </tr>\n",
              "  </tbody>\n",
              "</table>\n",
              "<p>2487 rows × 7 columns</p>\n",
              "</div>"
            ],
            "text/plain": [
              "                                                Comment  ...     aspek\n",
              "0     sejauh ini gua rekomen dari brand spesifikasi ...  ...   ekonomi\n",
              "1       500 mah tapi konsumsi tenagannya efisien banget  ...   ekonomi\n",
              "2                        c11 1200 termasuk murah ga nie  ...   ekonomi\n",
              "3     bini gw blm kasih nih ada bbrp gadget nganggur...  ...   ekonomi\n",
              "4     dia nak 12 tapi sekarang pun takde bajet nak t...  ...   ekonomi\n",
              "...                                                 ...  ...       ...\n",
              "2482     syg max dipake drakoran baterainya awet gak ya  ...  performa\n",
              "2483                 30 desember 2019 foto pake 3s 2016  ...  performa\n",
              "2484  3 kalo suka kamera belakang kalo suka kamera d...  ...  performa\n",
              "2485                9 enak buat main genshin jarang lag  ...  performa\n",
              "2486  aduh memorinya jauh bgt bedanya soalnya 64gb g...  ...  performa\n",
              "\n",
              "[2487 rows x 7 columns]"
            ]
          },
          "metadata": {
            "tags": []
          },
          "execution_count": 1
        }
      ]
    },
    {
      "cell_type": "markdown",
      "metadata": {
        "id": "LyD1g2aahMfQ"
      },
      "source": [
        "# **adjust 900**"
      ]
    },
    {
      "cell_type": "code",
      "metadata": {
        "id": "OALYB-QnuaVE",
        "colab": {
          "base_uri": "https://localhost:8080/",
          "height": 426
        },
        "outputId": "0d87ebab-64e5-4e17-bc5d-b5caac3e42ef"
      },
      "source": [
        "aspek_count = data.aspek.value_counts()\n",
        "print('Ekonomi:', aspek_count['ekonomi'])\n",
        "print('Fisik tampilan:', aspek_count['fisik_tampilan'])\n",
        "print('Emosi:', aspek_count['emosi'])\n",
        "print('Performa:', aspek_count['performa'])\n",
        "print('Layanan:', aspek_count['layanan'])\n",
        "#print('Proportion:', round(target_count[0] / target_count[1], 2), ': 1')\n",
        "\n",
        "aspek_count.plot(kind='bar', title='Count (aspek)');"
      ],
      "execution_count": null,
      "outputs": [
        {
          "output_type": "stream",
          "text": [
            "Ekonomi: 336\n",
            "Fisik tampilan: 244\n",
            "Emosi: 900\n",
            "Performa: 917\n",
            "Layanan: 90\n"
          ],
          "name": "stdout"
        },
        {
          "output_type": "display_data",
          "data": {
            "image/png": "[encoded data removed]",
            "text/plain": [
              "<Figure size 432x288 with 1 Axes>"
            ]
          },
          "metadata": {
            "tags": [],
            "needs_background": "light"
          }
        }
      ]
    },
    {
      "cell_type": "code",
      "metadata": {
        "id": "HLZl3qIivIt4"
      },
      "source": [
        "# Class count\n",
        "count_class_eko, count_class_fis, count_class_emo, count_class_per, count_class_lay = aspek_count\n",
        "\n",
        "# Divide by class\n",
        "class_eko = data[data['aspek'] == 'ekonomi']\n",
        "class_fis = data[data['aspek'] == 'fisik_tampilan']\n",
        "class_emo = data[data['aspek'] == 'emosi']\n",
        "class_per = data[data['aspek'] == 'performa']\n",
        "class_lay = data[data['aspek'] == 'layanan']"
      ],
      "execution_count": null,
      "outputs": []
    },
    {
      "cell_type": "code",
      "metadata": {
        "id": "CV86c_vFyaH0",
        "colab": {
          "base_uri": "https://localhost:8080/"
        },
        "outputId": "619c3604-9f70-4cf7-98e2-d0d56aeb725f"
      },
      "source": [
        "aspek_count"
      ],
      "execution_count": null,
      "outputs": [
        {
          "output_type": "execute_result",
          "data": {
            "text/plain": [
              "performa          917\n",
              "emosi             900\n",
              "ekonomi           336\n",
              "fisik_tampilan    244\n",
              "layanan            90\n",
              "Name: aspek, dtype: int64"
            ]
          },
          "metadata": {
            "tags": []
          },
          "execution_count": 35
        }
      ]
    },
    {
      "cell_type": "code",
      "metadata": {
        "id": "O0_-Y7-SMZSm",
        "colab": {
          "base_uri": "https://localhost:8080/",
          "height": 409
        },
        "outputId": "09177974-73e5-4b83-be82-b5242b53db87"
      },
      "source": [
        "class_lay_over = class_lay.sample(count_class_fis, replace=True)\n",
        "result_lay_over = pd.concat([class_fis, class_lay_over], axis=0)\n",
        "\n",
        "print('Random over-sampling:')\n",
        "print(result_lay_over.aspek.value_counts())\n",
        "\n",
        "result_lay_over.aspek.value_counts().plot(kind='bar', title='After Layanan getting over-sample 700');"
      ],
      "execution_count": null,
      "outputs": [
        {
          "output_type": "stream",
          "text": [
            "Random over-sampling:\n",
            "layanan           900\n",
            "fisik_tampilan    244\n",
            "Name: aspek, dtype: int64\n"
          ],
          "name": "stdout"
        },
        {
          "output_type": "display_data",
          "data": {
            "image/png": "[encoded data removed]",
            "text/plain": [
              "<Figure size 432x288 with 1 Axes>"
            ]
          },
          "metadata": {
            "tags": [],
            "needs_background": "light"
          }
        }
      ]
    },
    {
      "cell_type": "code",
      "metadata": {
        "colab": {
          "base_uri": "https://localhost:8080/"
        },
        "id": "4bTkS1PiRTKh",
        "outputId": "76022524-68a9-46f2-85ca-9a8ef50f4660"
      },
      "source": [
        "layover_count = result_lay_over.aspek.value_counts()\n",
        "class_layover_count, class_fis_count = layover_count\n",
        "class_layover_count"
      ],
      "execution_count": null,
      "outputs": [
        {
          "output_type": "execute_result",
          "data": {
            "text/plain": [
              "900"
            ]
          },
          "metadata": {
            "tags": []
          },
          "execution_count": 37
        }
      ]
    },
    {
      "cell_type": "code",
      "metadata": {
        "colab": {
          "base_uri": "https://localhost:8080/",
          "height": 382
        },
        "id": "7CUWnbv7QkyS",
        "outputId": "f6a28ab3-59e0-4697-e7c8-8d7fcc063d08"
      },
      "source": [
        "class_eko_over = class_eko.sample(class_layover_count, replace=True)\n",
        "result_eko_over = pd.concat([class_lay_over, class_eko_over], axis=0)\n",
        "\n",
        "print('Random over-sampling:')\n",
        "print(result_eko_over.aspek.value_counts())\n",
        "\n",
        "result_eko_over.aspek.value_counts().plot(kind='bar', title='After Ekonomi getting over-sample 700');"
      ],
      "execution_count": null,
      "outputs": [
        {
          "output_type": "stream",
          "text": [
            "Random over-sampling:\n",
            "layanan    900\n",
            "ekonomi    900\n",
            "Name: aspek, dtype: int64\n"
          ],
          "name": "stdout"
        },
        {
          "output_type": "display_data",
          "data": {
            "image/png": "[encoded data removed]",
            "text/plain": [
              "<Figure size 432x288 with 1 Axes>"
            ]
          },
          "metadata": {
            "tags": [],
            "needs_background": "light"
          }
        }
      ]
    },
    {
      "cell_type": "code",
      "metadata": {
        "colab": {
          "base_uri": "https://localhost:8080/",
          "height": 409
        },
        "id": "CYqJ8RWSRIws",
        "outputId": "6006d7d3-57e9-4186-c02b-7f13e27f539a"
      },
      "source": [
        "class_fis_over = class_fis.sample(class_layover_count, replace=True)\n",
        "result_fis_over = pd.concat([class_lay_over, class_fis_over], axis=0)\n",
        "\n",
        "print('Random over-sampling:')\n",
        "print(result_fis_over.aspek.value_counts())\n",
        "\n",
        "result_fis_over.aspek.value_counts().plot(kind='bar', title='After Ekonomi getting over-sample 700');"
      ],
      "execution_count": null,
      "outputs": [
        {
          "output_type": "stream",
          "text": [
            "Random over-sampling:\n",
            "fisik_tampilan    900\n",
            "layanan           900\n",
            "Name: aspek, dtype: int64\n"
          ],
          "name": "stdout"
        },
        {
          "output_type": "display_data",
          "data": {
            "image/png": "[encoded data removed]",
            "text/plain": [
              "<Figure size 432x288 with 1 Axes>"
            ]
          },
          "metadata": {
            "tags": [],
            "needs_background": "light"
          }
        }
      ]
    },
    {
      "cell_type": "code",
      "metadata": {
        "colab": {
          "base_uri": "https://localhost:8080/",
          "height": 385
        },
        "id": "XC_v63yTVglM",
        "outputId": "5a87e252-1ec9-4543-d311-0f46836f33b8"
      },
      "source": [
        "class_per_under = class_per.sample(class_layover_count, replace=True)\n",
        "result_per_under = pd.concat([class_lay_over, class_per_under], axis=0)\n",
        "\n",
        "print('Random over-sampling:')\n",
        "print(result_per_under.aspek.value_counts())\n",
        "\n",
        "result_per_under.aspek.value_counts().plot(kind='bar', title='After Layanan getting over-sample');"
      ],
      "execution_count": null,
      "outputs": [
        {
          "output_type": "stream",
          "text": [
            "Random over-sampling:\n",
            "layanan     900\n",
            "performa    900\n",
            "Name: aspek, dtype: int64\n"
          ],
          "name": "stdout"
        },
        {
          "output_type": "display_data",
          "data": {
            "image/png": "[encoded data removed]",
            "text/plain": [
              "<Figure size 432x288 with 1 Axes>"
            ]
          },
          "metadata": {
            "tags": [],
            "needs_background": "light"
          }
        }
      ]
    },
    {
      "cell_type": "code",
      "metadata": {
        "id": "FzWoZ9bDWAKy"
      },
      "source": [
        "pd.DataFrame(class_lay_over).to_csv(\"drive/MyDrive/TA/newera/900/lay900.csv\", index=True)\n",
        "pd.DataFrame(class_per_under).to_csv(\"drive/MyDrive/TA/newera/900/per900.csv\", index=True)\n",
        "pd.DataFrame(class_fis_over).to_csv(\"drive/MyDrive/TA/newera/900/fis900.csv\", index=True)\n",
        "pd.DataFrame(class_eko_over).to_csv(\"drive/MyDrive/TA/newera/900/eko900.csv\", index=True)\n",
        "pd.DataFrame(class_emo).to_csv(\"drive/MyDrive/TA/newera/900/emo900.csv\", index=True)"
      ],
      "execution_count": null,
      "outputs": []
    },
    {
      "cell_type": "markdown",
      "metadata": {
        "id": "NUCujCXLOElz"
      },
      "source": [
        "# **SENTIMEN**"
      ]
    },
    {
      "cell_type": "code",
      "metadata": {
        "colab": {
          "base_uri": "https://localhost:8080/",
          "height": 358
        },
        "id": "Eo3uTtCtOPi5",
        "outputId": "b21fdf91-9768-47f7-f811-8f4b79fe1bab"
      },
      "source": [
        "polaritas_count = data.polaritas.value_counts()\n",
        "print('Negatif:', polaritas_count['negatif'])\n",
        "print('Positif:', polaritas_count['positif'])\n",
        "print('Netral:', polaritas_count['netral'])\n",
        "#print('Proportion:', round(target_count[0] / target_count[1], 2), ': 1')\n",
        "\n",
        "polaritas_count.plot(kind='bar', title='Count (polaritas)');"
      ],
      "execution_count": null,
      "outputs": [
        {
          "output_type": "stream",
          "text": [
            "Negatif: 886\n",
            "Positif: 1155\n",
            "Netral: 578\n"
          ],
          "name": "stdout"
        },
        {
          "output_type": "display_data",
          "data": {
            "image/png": "[encoded data removed]",
            "text/plain": [
              "<Figure size 432x288 with 1 Axes>"
            ]
          },
          "metadata": {
            "tags": [],
            "needs_background": "light"
          }
        }
      ]
    },
    {
      "cell_type": "code",
      "metadata": {
        "id": "730lbaTiPT60"
      },
      "source": [
        "# Class count\n",
        "count_class_neg, count_class_pos, count_class_net = polaritas_count\n",
        "\n",
        "# Divide by class\n",
        "class_neg = data[data['polaritas'] == 'negatif']\n",
        "class_pos = data[data['polaritas'] == 'positif']\n",
        "class_net = data[data['polaritas'] == 'netral']"
      ],
      "execution_count": null,
      "outputs": []
    },
    {
      "cell_type": "code",
      "metadata": {
        "colab": {
          "base_uri": "https://localhost:8080/"
        },
        "id": "nzNYCeLNPYf_",
        "outputId": "cef267e7-5c06-4cb5-91f6-fff0aa1be1a0"
      },
      "source": [
        "polaritas_count"
      ],
      "execution_count": null,
      "outputs": [
        {
          "output_type": "execute_result",
          "data": {
            "text/plain": [
              "positif    1155\n",
              "negatif     886\n",
              "netral      578\n",
              "Name: polaritas, dtype: int64"
            ]
          },
          "metadata": {
            "tags": []
          },
          "execution_count": 41
        }
      ]
    },
    {
      "cell_type": "code",
      "metadata": {
        "colab": {
          "base_uri": "https://localhost:8080/",
          "height": 375
        },
        "id": "-P8uTrSzPaZS",
        "outputId": "5d63db14-f498-40f8-b41b-a042661d7763"
      },
      "source": [
        "class_net_over = class_net.sample(count_class_neg, replace=True)\n",
        "result_net_over = pd.concat([class_neg, class_net_over], axis=0)\n",
        "\n",
        "print('Random over-sampling:')\n",
        "print(result_net_over.polaritas.value_counts())\n",
        "\n",
        "result_net_over.polaritas.value_counts().plot(kind='bar', title='After Netral getting over-sample');"
      ],
      "execution_count": null,
      "outputs": [
        {
          "output_type": "stream",
          "text": [
            "Random over-sampling:\n",
            "netral     1155\n",
            "negatif     886\n",
            "Name: polaritas, dtype: int64\n"
          ],
          "name": "stdout"
        },
        {
          "output_type": "display_data",
          "data": {
            "image/png": "[encoded data removed]",
            "text/plain": [
              "<Figure size 432x288 with 1 Axes>"
            ]
          },
          "metadata": {
            "tags": [],
            "needs_background": "light"
          }
        }
      ]
    },
    {
      "cell_type": "code",
      "metadata": {
        "colab": {
          "base_uri": "https://localhost:8080/"
        },
        "id": "wmXmis7cPcAx",
        "outputId": "cc1a1e4a-b4e1-4b79-cce0-3e6f40c988d0"
      },
      "source": [
        "netover_count = result_net_over.polaritas.value_counts()\n",
        "class_netover_count, class_neg_count = netover_count\n",
        "class_netover_count"
      ],
      "execution_count": null,
      "outputs": [
        {
          "output_type": "execute_result",
          "data": {
            "text/plain": [
              "1155"
            ]
          },
          "metadata": {
            "tags": []
          },
          "execution_count": 50
        }
      ]
    },
    {
      "cell_type": "code",
      "metadata": {
        "colab": {
          "base_uri": "https://localhost:8080/",
          "height": 375
        },
        "id": "HwKzW_j5QxKK",
        "outputId": "073362f9-12e9-4690-8d0c-1253817e8111"
      },
      "source": [
        "class_neg_over = class_neg.sample(class_netover_count, replace=True)\n",
        "result_neg_over = pd.concat([class_net_over, class_neg_over], axis=0)\n",
        "\n",
        "print('Random over-sampling:')\n",
        "print(result_neg_over.polaritas.value_counts())\n",
        "\n",
        "result_neg_over.polaritas.value_counts().plot(kind='bar', title='After Netral getting over-sample');"
      ],
      "execution_count": null,
      "outputs": [
        {
          "output_type": "stream",
          "text": [
            "Random over-sampling:\n",
            "netral     1155\n",
            "negatif    1155\n",
            "Name: polaritas, dtype: int64\n"
          ],
          "name": "stdout"
        },
        {
          "output_type": "display_data",
          "data": {
            "image/png": "[encoded data removed]",
            "text/plain": [
              "<Figure size 432x288 with 1 Axes>"
            ]
          },
          "metadata": {
            "tags": [],
            "needs_background": "light"
          }
        }
      ]
    },
    {
      "cell_type": "code",
      "metadata": {
        "id": "gUkVyjUsSIwd"
      },
      "source": [
        "pd.DataFrame(class_net_over).to_csv(\"drive/MyDrive/TA/newera/sentimen/netral.csv\", index=True)\n",
        "pd.DataFrame(class_neg_over).to_csv(\"drive/MyDrive/TA/newera/sentimen/negatif.csv\", index=True)\n",
        "pd.DataFrame(class_pos).to_csv(\"drive/MyDrive/TA/newera/sentimen/positif.csv\", index=True)"
      ],
      "execution_count": null,
      "outputs": []
    },
    {
      "cell_type": "markdown",
      "metadata": {
        "id": "YyiJyUROjDyk"
      },
      "source": [
        "# **OVERSAMPLING MAX**"
      ]
    },
    {
      "cell_type": "code",
      "metadata": {
        "colab": {
          "base_uri": "https://localhost:8080/",
          "height": 419
        },
        "id": "LiU6JwojW_SU",
        "outputId": "ba0ba1e3-d89c-4fc9-a715-9b8a5ac038cc"
      },
      "source": [
        "data1 = pd.read_csv('drive/MyDrive/TA/newera/datatrain.csv')\n",
        "data1"
      ],
      "execution_count": null,
      "outputs": [
        {
          "output_type": "execute_result",
          "data": {
            "text/html": [
              "<div>\n",
              "<style scoped>\n",
              "    .dataframe tbody tr th:only-of-type {\n",
              "        vertical-align: middle;\n",
              "    }\n",
              "\n",
              "    .dataframe tbody tr th {\n",
              "        vertical-align: top;\n",
              "    }\n",
              "\n",
              "    .dataframe thead th {\n",
              "        text-align: right;\n",
              "    }\n",
              "</style>\n",
              "<table border=\"1\" class=\"dataframe\">\n",
              "  <thead>\n",
              "    <tr style=\"text-align: right;\">\n",
              "      <th></th>\n",
              "      <th>Unnamed: 0</th>\n",
              "      <th>Comment</th>\n",
              "      <th>negatif</th>\n",
              "      <th>netral</th>\n",
              "      <th>positif</th>\n",
              "      <th>ekonomi</th>\n",
              "      <th>emosi</th>\n",
              "      <th>performa</th>\n",
              "      <th>fisik_tampilan</th>\n",
              "      <th>layanan</th>\n",
              "      <th>polaritas</th>\n",
              "      <th>aspek</th>\n",
              "    </tr>\n",
              "  </thead>\n",
              "  <tbody>\n",
              "    <tr>\n",
              "      <th>0</th>\n",
              "      <td>346</td>\n",
              "      <td>iya kak kan bilang pake teropong hpnya juga ha...</td>\n",
              "      <td>0</td>\n",
              "      <td>0</td>\n",
              "      <td>1</td>\n",
              "      <td>0</td>\n",
              "      <td>0</td>\n",
              "      <td>1</td>\n",
              "      <td>0</td>\n",
              "      <td>0</td>\n",
              "      <td>positif</td>\n",
              "      <td>performa</td>\n",
              "    </tr>\n",
              "    <tr>\n",
              "      <th>1</th>\n",
              "      <td>1482</td>\n",
              "      <td>iya emang keren banget ini paling kurang kamer...</td>\n",
              "      <td>0</td>\n",
              "      <td>0</td>\n",
              "      <td>1</td>\n",
              "      <td>0</td>\n",
              "      <td>0</td>\n",
              "      <td>1</td>\n",
              "      <td>0</td>\n",
              "      <td>0</td>\n",
              "      <td>positif</td>\n",
              "      <td>performa</td>\n",
              "    </tr>\n",
              "    <tr>\n",
              "      <th>2</th>\n",
              "      <td>2563</td>\n",
              "      <td>sayang deh kalo buat 6s mendingan si menurutku</td>\n",
              "      <td>0</td>\n",
              "      <td>1</td>\n",
              "      <td>0</td>\n",
              "      <td>0</td>\n",
              "      <td>1</td>\n",
              "      <td>0</td>\n",
              "      <td>0</td>\n",
              "      <td>0</td>\n",
              "      <td>netral</td>\n",
              "      <td>emosi</td>\n",
              "    </tr>\n",
              "    <tr>\n",
              "      <th>3</th>\n",
              "      <td>163</td>\n",
              "      <td>baru bbrp bulan dah</td>\n",
              "      <td>1</td>\n",
              "      <td>0</td>\n",
              "      <td>0</td>\n",
              "      <td>0</td>\n",
              "      <td>1</td>\n",
              "      <td>0</td>\n",
              "      <td>0</td>\n",
              "      <td>0</td>\n",
              "      <td>negatif</td>\n",
              "      <td>emosi</td>\n",
              "    </tr>\n",
              "    <tr>\n",
              "      <th>4</th>\n",
              "      <td>1490</td>\n",
              "      <td>nyobain x3 seger bet memory 256gb wkwkwk</td>\n",
              "      <td>0</td>\n",
              "      <td>0</td>\n",
              "      <td>1</td>\n",
              "      <td>0</td>\n",
              "      <td>0</td>\n",
              "      <td>1</td>\n",
              "      <td>0</td>\n",
              "      <td>0</td>\n",
              "      <td>positif</td>\n",
              "      <td>performa</td>\n",
              "    </tr>\n",
              "    <tr>\n",
              "      <th>...</th>\n",
              "      <td>...</td>\n",
              "      <td>...</td>\n",
              "      <td>...</td>\n",
              "      <td>...</td>\n",
              "      <td>...</td>\n",
              "      <td>...</td>\n",
              "      <td>...</td>\n",
              "      <td>...</td>\n",
              "      <td>...</td>\n",
              "      <td>...</td>\n",
              "      <td>...</td>\n",
              "      <td>...</td>\n",
              "    </tr>\n",
              "    <tr>\n",
              "      <th>2614</th>\n",
              "      <td>1646</td>\n",
              "      <td>baterainya awet murah juga</td>\n",
              "      <td>0</td>\n",
              "      <td>0</td>\n",
              "      <td>1</td>\n",
              "      <td>1</td>\n",
              "      <td>0</td>\n",
              "      <td>0</td>\n",
              "      <td>0</td>\n",
              "      <td>0</td>\n",
              "      <td>positif</td>\n",
              "      <td>ekonomi</td>\n",
              "    </tr>\n",
              "    <tr>\n",
              "      <th>2615</th>\n",
              "      <td>1859</td>\n",
              "      <td>iya mamaku sumsang anaknya semua gpp</td>\n",
              "      <td>0</td>\n",
              "      <td>1</td>\n",
              "      <td>0</td>\n",
              "      <td>0</td>\n",
              "      <td>1</td>\n",
              "      <td>0</td>\n",
              "      <td>0</td>\n",
              "      <td>0</td>\n",
              "      <td>netral</td>\n",
              "      <td>emosi</td>\n",
              "    </tr>\n",
              "    <tr>\n",
              "      <th>2616</th>\n",
              "      <td>1279</td>\n",
              "      <td>emang dabes lah bismillah f10</td>\n",
              "      <td>0</td>\n",
              "      <td>0</td>\n",
              "      <td>1</td>\n",
              "      <td>0</td>\n",
              "      <td>1</td>\n",
              "      <td>0</td>\n",
              "      <td>0</td>\n",
              "      <td>0</td>\n",
              "      <td>positif</td>\n",
              "      <td>emosi</td>\n",
              "    </tr>\n",
              "    <tr>\n",
              "      <th>2617</th>\n",
              "      <td>1250</td>\n",
              "      <td>5g murah baru a74 5g ama 5g saran aja kalau ka...</td>\n",
              "      <td>0</td>\n",
              "      <td>1</td>\n",
              "      <td>0</td>\n",
              "      <td>1</td>\n",
              "      <td>0</td>\n",
              "      <td>0</td>\n",
              "      <td>0</td>\n",
              "      <td>0</td>\n",
              "      <td>netral</td>\n",
              "      <td>ekonomi</td>\n",
              "    </tr>\n",
              "    <tr>\n",
              "      <th>2618</th>\n",
              "      <td>2205</td>\n",
              "      <td>aduh memorinya jauh bgt bedanya soalnya 64gb g...</td>\n",
              "      <td>1</td>\n",
              "      <td>0</td>\n",
              "      <td>0</td>\n",
              "      <td>0</td>\n",
              "      <td>0</td>\n",
              "      <td>1</td>\n",
              "      <td>0</td>\n",
              "      <td>0</td>\n",
              "      <td>negatif</td>\n",
              "      <td>performa</td>\n",
              "    </tr>\n",
              "  </tbody>\n",
              "</table>\n",
              "<p>2619 rows × 12 columns</p>\n",
              "</div>"
            ],
            "text/plain": [
              "      Unnamed: 0  ...     aspek\n",
              "0            346  ...  performa\n",
              "1           1482  ...  performa\n",
              "2           2563  ...     emosi\n",
              "3            163  ...     emosi\n",
              "4           1490  ...  performa\n",
              "...          ...  ...       ...\n",
              "2614        1646  ...   ekonomi\n",
              "2615        1859  ...     emosi\n",
              "2616        1279  ...     emosi\n",
              "2617        1250  ...   ekonomi\n",
              "2618        2205  ...  performa\n",
              "\n",
              "[2619 rows x 12 columns]"
            ]
          },
          "metadata": {
            "tags": []
          },
          "execution_count": 2
        }
      ]
    },
    {
      "cell_type": "code",
      "metadata": {
        "colab": {
          "base_uri": "https://localhost:8080/",
          "height": 426
        },
        "id": "gYYf7RGFjfBB",
        "outputId": "d2d2b728-ed9f-4bbd-f4f1-6f6d6341fc51"
      },
      "source": [
        "aspek1_count = data1.aspek.value_counts()\n",
        "print('Ekonomi:', aspek1_count['ekonomi'])\n",
        "print('Fisik tampilan:', aspek1_count['fisik_tampilan'])\n",
        "print('Emosi:', aspek1_count['emosi'])\n",
        "print('Performa:', aspek1_count['performa'])\n",
        "print('Layanan:', aspek1_count['layanan'])\n",
        "#print('Proportion:', round(target_count[0] / target_count[1], 2), ': 1')\n",
        "\n",
        "aspek1_count.plot(kind='bar', title='Count (aspek)');"
      ],
      "execution_count": null,
      "outputs": [
        {
          "output_type": "stream",
          "text": [
            "Ekonomi: 336\n",
            "Fisik tampilan: 244\n",
            "Emosi: 1032\n",
            "Performa: 917\n",
            "Layanan: 90\n"
          ],
          "name": "stdout"
        },
        {
          "output_type": "display_data",
          "data": {
            "image/png": "[encoded data removed]",
            "text/plain": [
              "<Figure size 432x288 with 1 Axes>"
            ]
          },
          "metadata": {
            "tags": [],
            "needs_background": "light"
          }
        }
      ]
    },
    {
      "cell_type": "code",
      "metadata": {
        "id": "iz5GC9fzjqLU"
      },
      "source": [
        "# Class count\n",
        "count_class_eko1, count_class_fis1, count_class_emo1, count_class_per1, count_class_lay1 = aspek1_count\n",
        "\n",
        "# Divide by class\n",
        "class_eko1 = data1[data1['aspek'] == 'ekonomi']\n",
        "class_fis1 = data1[data1['aspek'] == 'fisik_tampilan']\n",
        "class_emo1 = data1[data1['aspek'] == 'emosi']\n",
        "class_per1 = data1[data1['aspek'] == 'performa']\n",
        "class_lay1 = data1[data1['aspek'] == 'layanan']"
      ],
      "execution_count": null,
      "outputs": []
    },
    {
      "cell_type": "code",
      "metadata": {
        "colab": {
          "base_uri": "https://localhost:8080/",
          "height": 382
        },
        "id": "Qce4AMkSlcV8",
        "outputId": "c84c7934-c2bb-481a-ef6c-42a49dfbd31d"
      },
      "source": [
        "class_lay1_over = class_lay1.sample(count_class_eko1, replace=True)\n",
        "result_lay1_over = pd.concat([class_eko1, class_lay1_over], axis=0)\n",
        "\n",
        "print('Random over-sampling:')\n",
        "print(result_lay1_over.aspek.value_counts())\n",
        "\n",
        "result_lay1_over.aspek.value_counts().plot(kind='bar', title='After Layanan getting over-sample 700');"
      ],
      "execution_count": null,
      "outputs": [
        {
          "output_type": "stream",
          "text": [
            "Random over-sampling:\n",
            "layanan    1032\n",
            "ekonomi     336\n",
            "Name: aspek, dtype: int64\n"
          ],
          "name": "stdout"
        },
        {
          "output_type": "display_data",
          "data": {
            "image/png": "[encoded data removed]",
            "text/plain": [
              "<Figure size 432x288 with 1 Axes>"
            ]
          },
          "metadata": {
            "tags": [],
            "needs_background": "light"
          }
        }
      ]
    },
    {
      "cell_type": "code",
      "metadata": {
        "colab": {
          "base_uri": "https://localhost:8080/"
        },
        "id": "ba-1-_TPl64-",
        "outputId": "94313b34-c383-40e6-ab23-119c2ff3e8b4"
      },
      "source": [
        "layover1_count = result_lay1_over.aspek.value_counts()\n",
        "class_layover1_count, class_fis2_count = layover1_count\n",
        "class_layover1_count"
      ],
      "execution_count": null,
      "outputs": [
        {
          "output_type": "execute_result",
          "data": {
            "text/plain": [
              "1032"
            ]
          },
          "metadata": {
            "tags": []
          },
          "execution_count": 6
        }
      ]
    },
    {
      "cell_type": "code",
      "metadata": {
        "colab": {
          "base_uri": "https://localhost:8080/",
          "height": 409
        },
        "id": "sSe9NOEsmxv7",
        "outputId": "207dbed5-7997-46d5-e7f7-74e8a51e1a92"
      },
      "source": [
        "class_fis1_over = class_fis1.sample(class_layover1_count, replace=True)\n",
        "result_fis1_over = pd.concat([class_lay1_over, class_fis1_over], axis=0)\n",
        "\n",
        "print('Random over-sampling:')\n",
        "print(result_fis1_over.aspek.value_counts())\n",
        "\n",
        "result_fis1_over.aspek.value_counts().plot(kind='bar', title='After fisik_Tampilan getting over-sample 700');"
      ],
      "execution_count": null,
      "outputs": [
        {
          "output_type": "stream",
          "text": [
            "Random over-sampling:\n",
            "fisik_tampilan    1032\n",
            "layanan           1032\n",
            "Name: aspek, dtype: int64\n"
          ],
          "name": "stdout"
        },
        {
          "output_type": "display_data",
          "data": {
            "image/png": "[encoded data removed]",
            "text/plain": [
              "<Figure size 432x288 with 1 Axes>"
            ]
          },
          "metadata": {
            "tags": [],
            "needs_background": "light"
          }
        }
      ]
    },
    {
      "cell_type": "code",
      "metadata": {
        "colab": {
          "base_uri": "https://localhost:8080/",
          "height": 382
        },
        "id": "A8Bajr_ynKd0",
        "outputId": "86ac8640-9c0a-4c6c-f643-fbdc1d0555f2"
      },
      "source": [
        "class_eko1_over = class_eko1.sample(class_layover1_count, replace=True)\n",
        "result_eko1_over = pd.concat([class_lay1_over, class_eko1_over], axis=0)\n",
        "\n",
        "print('Random over-sampling:')\n",
        "print(result_eko1_over.aspek.value_counts())\n",
        "\n",
        "result_eko1_over.aspek.value_counts().plot(kind='bar', title='After Ekonomi getting over-sample 700');"
      ],
      "execution_count": null,
      "outputs": [
        {
          "output_type": "stream",
          "text": [
            "Random over-sampling:\n",
            "ekonomi    1032\n",
            "layanan    1032\n",
            "Name: aspek, dtype: int64\n"
          ],
          "name": "stdout"
        },
        {
          "output_type": "display_data",
          "data": {
            "image/png": "[encoded data removed]",
            "text/plain": [
              "<Figure size 432x288 with 1 Axes>"
            ]
          },
          "metadata": {
            "tags": [],
            "needs_background": "light"
          }
        }
      ]
    },
    {
      "cell_type": "code",
      "metadata": {
        "colab": {
          "base_uri": "https://localhost:8080/",
          "height": 385
        },
        "id": "bNnM0XtPn175",
        "outputId": "120f54f9-33fa-4603-8fba-a04d21b13c75"
      },
      "source": [
        "class_per1_under = class_per1.sample(class_layover1_count, replace=True)\n",
        "result_per1_under = pd.concat([class_lay1_over, class_per1_under], axis=0)\n",
        "\n",
        "print('Random over-sampling:')\n",
        "print(result_per1_under.aspek.value_counts())\n",
        "\n",
        "result_per1_under.aspek.value_counts().plot(kind='bar', title='After Performa getting under-sample 700');"
      ],
      "execution_count": null,
      "outputs": [
        {
          "output_type": "stream",
          "text": [
            "Random over-sampling:\n",
            "performa    1032\n",
            "layanan     1032\n",
            "Name: aspek, dtype: int64\n"
          ],
          "name": "stdout"
        },
        {
          "output_type": "display_data",
          "data": {
            "image/png": "[encoded data removed]",
            "text/plain": [
              "<Figure size 432x288 with 1 Axes>"
            ]
          },
          "metadata": {
            "tags": [],
            "needs_background": "light"
          }
        }
      ]
    },
    {
      "cell_type": "code",
      "metadata": {
        "id": "XKZyUxVeoAPH"
      },
      "source": [
        "pd.DataFrame(class_lay1_over).to_csv(\"drive/MyDrive/TA/newera/aspekmax/lay1000.csv\", index=True)\n",
        "pd.DataFrame(class_eko1_over).to_csv(\"drive/MyDrive/TA/newera/aspekmax/eko1000.csv\", index=True)\n",
        "pd.DataFrame(class_fis1_over).to_csv(\"drive/MyDrive/TA/newera/aspekmax/fis1000.csv\", index=True)\n",
        "pd.DataFrame(class_per1_under).to_csv(\"drive/MyDrive/TA/newera/aspekmax/per1000.csv\", index=True)\n",
        "pd.DataFrame(class_emo1).to_csv(\"drive/MyDrive/TA/newera/aspekmax/emo1000.csv\", index=True)"
      ],
      "execution_count": null,
      "outputs": []
    },
    {
      "cell_type": "code",
      "metadata": {
        "colab": {
          "base_uri": "https://localhost:8080/",
          "height": 983
        },
        "id": "-l3ZI4XvXqJK",
        "outputId": "7a3a821c-9e62-485f-acef-7b71b1c1414c"
      },
      "source": [
        "class_per1_under"
      ],
      "execution_count": null,
      "outputs": [
        {
          "output_type": "execute_result",
          "data": {
            "text/html": [
              "<div>\n",
              "<style scoped>\n",
              "    .dataframe tbody tr th:only-of-type {\n",
              "        vertical-align: middle;\n",
              "    }\n",
              "\n",
              "    .dataframe tbody tr th {\n",
              "        vertical-align: top;\n",
              "    }\n",
              "\n",
              "    .dataframe thead th {\n",
              "        text-align: right;\n",
              "    }\n",
              "</style>\n",
              "<table border=\"1\" class=\"dataframe\">\n",
              "  <thead>\n",
              "    <tr style=\"text-align: right;\">\n",
              "      <th></th>\n",
              "      <th>Unnamed: 0</th>\n",
              "      <th>Comment</th>\n",
              "      <th>negatif</th>\n",
              "      <th>netral</th>\n",
              "      <th>positif</th>\n",
              "      <th>ekonomi</th>\n",
              "      <th>emosi</th>\n",
              "      <th>performa</th>\n",
              "      <th>fisik_tampilan</th>\n",
              "      <th>layanan</th>\n",
              "      <th>polaritas</th>\n",
              "      <th>aspek</th>\n",
              "    </tr>\n",
              "  </thead>\n",
              "  <tbody>\n",
              "    <tr>\n",
              "      <th>465</th>\n",
              "      <td>225</td>\n",
              "      <td>min saya kok kyk ada bunyi mesinnya kedengeran...</td>\n",
              "      <td>1</td>\n",
              "      <td>0</td>\n",
              "      <td>0</td>\n",
              "      <td>0</td>\n",
              "      <td>0</td>\n",
              "      <td>1</td>\n",
              "      <td>0</td>\n",
              "      <td>0</td>\n",
              "      <td>negatif</td>\n",
              "      <td>performa</td>\n",
              "    </tr>\n",
              "    <tr>\n",
              "      <th>380</th>\n",
              "      <td>1708</td>\n",
              "      <td>jiahahahahaha gua juga gada tp ada namanya app...</td>\n",
              "      <td>0</td>\n",
              "      <td>0</td>\n",
              "      <td>1</td>\n",
              "      <td>0</td>\n",
              "      <td>0</td>\n",
              "      <td>1</td>\n",
              "      <td>0</td>\n",
              "      <td>0</td>\n",
              "      <td>positif</td>\n",
              "      <td>performa</td>\n",
              "    </tr>\n",
              "    <tr>\n",
              "      <th>1963</th>\n",
              "      <td>2796</td>\n",
              "      <td>tp kalo dalam ruangancahaya ga memadai kamera ...</td>\n",
              "      <td>1</td>\n",
              "      <td>0</td>\n",
              "      <td>0</td>\n",
              "      <td>0</td>\n",
              "      <td>0</td>\n",
              "      <td>1</td>\n",
              "      <td>0</td>\n",
              "      <td>0</td>\n",
              "      <td>negatif</td>\n",
              "      <td>performa</td>\n",
              "    </tr>\n",
              "    <tr>\n",
              "      <th>619</th>\n",
              "      <td>2035</td>\n",
              "      <td>sch 9 atau a12 lebih bagus dibeli ya untuk sek...</td>\n",
              "      <td>0</td>\n",
              "      <td>1</td>\n",
              "      <td>0</td>\n",
              "      <td>0</td>\n",
              "      <td>0</td>\n",
              "      <td>1</td>\n",
              "      <td>0</td>\n",
              "      <td>0</td>\n",
              "      <td>netral</td>\n",
              "      <td>performa</td>\n",
              "    </tr>\n",
              "    <tr>\n",
              "      <th>1123</th>\n",
              "      <td>371</td>\n",
              "      <td>hsjshsjshshs pastu dah memang nak angkat tu ka...</td>\n",
              "      <td>1</td>\n",
              "      <td>0</td>\n",
              "      <td>0</td>\n",
              "      <td>0</td>\n",
              "      <td>0</td>\n",
              "      <td>1</td>\n",
              "      <td>0</td>\n",
              "      <td>0</td>\n",
              "      <td>negatif</td>\n",
              "      <td>performa</td>\n",
              "    </tr>\n",
              "    <tr>\n",
              "      <th>...</th>\n",
              "      <td>...</td>\n",
              "      <td>...</td>\n",
              "      <td>...</td>\n",
              "      <td>...</td>\n",
              "      <td>...</td>\n",
              "      <td>...</td>\n",
              "      <td>...</td>\n",
              "      <td>...</td>\n",
              "      <td>...</td>\n",
              "      <td>...</td>\n",
              "      <td>...</td>\n",
              "      <td>...</td>\n",
              "    </tr>\n",
              "    <tr>\n",
              "      <th>2107</th>\n",
              "      <td>254</td>\n",
              "      <td>gua pindah dari 6 ke karena op6 gua matot kwkw...</td>\n",
              "      <td>0</td>\n",
              "      <td>0</td>\n",
              "      <td>1</td>\n",
              "      <td>0</td>\n",
              "      <td>0</td>\n",
              "      <td>1</td>\n",
              "      <td>0</td>\n",
              "      <td>0</td>\n",
              "      <td>positif</td>\n",
              "      <td>performa</td>\n",
              "    </tr>\n",
              "    <tr>\n",
              "      <th>843</th>\n",
              "      <td>240</td>\n",
              "      <td>naksirnya coming soon nawarnya belinya pixel s...</td>\n",
              "      <td>0</td>\n",
              "      <td>0</td>\n",
              "      <td>1</td>\n",
              "      <td>0</td>\n",
              "      <td>0</td>\n",
              "      <td>1</td>\n",
              "      <td>0</td>\n",
              "      <td>0</td>\n",
              "      <td>positif</td>\n",
              "      <td>performa</td>\n",
              "    </tr>\n",
              "    <tr>\n",
              "      <th>1308</th>\n",
              "      <td>433</td>\n",
              "      <td>kapan nih update miui soalnya miui 1202 banyak...</td>\n",
              "      <td>1</td>\n",
              "      <td>0</td>\n",
              "      <td>0</td>\n",
              "      <td>0</td>\n",
              "      <td>0</td>\n",
              "      <td>1</td>\n",
              "      <td>0</td>\n",
              "      <td>0</td>\n",
              "      <td>negatif</td>\n",
              "      <td>performa</td>\n",
              "    </tr>\n",
              "    <tr>\n",
              "      <th>1072</th>\n",
              "      <td>1174</td>\n",
              "      <td>min fitur pengelolaan jaringan untuk matikan p...</td>\n",
              "      <td>1</td>\n",
              "      <td>0</td>\n",
              "      <td>0</td>\n",
              "      <td>0</td>\n",
              "      <td>0</td>\n",
              "      <td>1</td>\n",
              "      <td>0</td>\n",
              "      <td>0</td>\n",
              "      <td>negatif</td>\n",
              "      <td>performa</td>\n",
              "    </tr>\n",
              "    <tr>\n",
              "      <th>1982</th>\n",
              "      <td>1440</td>\n",
              "      <td>pakai sehari baru abis skrg tapi kegiatannta k...</td>\n",
              "      <td>0</td>\n",
              "      <td>0</td>\n",
              "      <td>1</td>\n",
              "      <td>0</td>\n",
              "      <td>0</td>\n",
              "      <td>1</td>\n",
              "      <td>0</td>\n",
              "      <td>0</td>\n",
              "      <td>positif</td>\n",
              "      <td>performa</td>\n",
              "    </tr>\n",
              "  </tbody>\n",
              "</table>\n",
              "<p>1032 rows × 12 columns</p>\n",
              "</div>"
            ],
            "text/plain": [
              "      Unnamed: 0  ...     aspek\n",
              "465          225  ...  performa\n",
              "380         1708  ...  performa\n",
              "1963        2796  ...  performa\n",
              "619         2035  ...  performa\n",
              "1123         371  ...  performa\n",
              "...          ...  ...       ...\n",
              "2107         254  ...  performa\n",
              "843          240  ...  performa\n",
              "1308         433  ...  performa\n",
              "1072        1174  ...  performa\n",
              "1982        1440  ...  performa\n",
              "\n",
              "[1032 rows x 12 columns]"
            ]
          },
          "metadata": {
            "tags": []
          },
          "execution_count": 13
        }
      ]
    },
    {
      "cell_type": "markdown",
      "metadata": {
        "id": "myL9nGMHdMTw"
      },
      "source": [
        "# **MERGE**"
      ]
    },
    {
      "cell_type": "code",
      "metadata": {
        "id": "IJYJ_Z34oRoi"
      },
      "source": [
        "import os, glob\n",
        "import pandas as pd"
      ],
      "execution_count": null,
      "outputs": []
    },
    {
      "cell_type": "code",
      "metadata": {
        "id": "6p35PAsdnlqa"
      },
      "source": [
        "path =\"drive/MyDrive/TA/newera/900\""
      ],
      "execution_count": null,
      "outputs": []
    },
    {
      "cell_type": "code",
      "metadata": {
        "id": "RiT2jtDK_lsy"
      },
      "source": [
        "all_files = glob.glob(os.path.join(path, \"*.csv\"))"
      ],
      "execution_count": null,
      "outputs": []
    },
    {
      "cell_type": "code",
      "metadata": {
        "id": "yUhmNyUx_nSt"
      },
      "source": [
        "df_from_each_file = (pd.read_csv(f, sep=',') for f in all_files)\n",
        "df_merged   = pd.concat(df_from_each_file, ignore_index=True)\n",
        "df_merged.to_csv( \"drive/MyDrive/TA/newera/ovrs900.csv\", index=False)"
      ],
      "execution_count": null,
      "outputs": []
    },
    {
      "cell_type": "code",
      "metadata": {
        "id": "PIAg8kYk_qhk"
      },
      "source": [
        ""
      ],
      "execution_count": null,
      "outputs": []
    }
  ]
}