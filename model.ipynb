{
  "nbformat": 4,
  "nbformat_minor": 0,
  "metadata": {
    "colab": {
      "name": "model",
      "provenance": []
    },
    "kernelspec": {
      "name": "python3",
      "display_name": "Python 3"
    },
    "language_info": {
      "name": "python"
    }
  },
  "cells": [
    {
      "cell_type": "code",
      "metadata": {
        "id": "wL2asRhwtppB"
      },
      "source": [
        "import pandas as pd\n",
        "import matplotlib.pyplot as plt\n",
        "%matplotlib inline\n",
        "import numpy as np\n",
        "\n",
        "from keras.preprocessing.text import Tokenizer\n",
        "from keras.preprocessing.sequence import pad_sequences\n",
        "from keras.layers import Dense, Input, Embedding, Dropout, Activation, concatenate, Flatten, CuDNNGRU, Conv1D\n",
        "from keras.layers import GRU, SpatialDropout1D, Flatten, GlobalMaxPooling1D\n",
        "from keras.models import Model, Sequential\n",
        "from keras import initializers, regularizers, constraints, optimizers, layers\n",
        "from keras.callbacks import Callback, EarlyStopping, ModelCheckpoint\n",
        "from gensim.models.keyedvectors import KeyedVectors\n",
        "\n",
        "import tensorflow as tf\n",
        "import os"
      ],
      "execution_count": null,
      "outputs": []
    },
    {
      "cell_type": "code",
      "metadata": {
        "id": "C2LQiw1YttOz"
      },
      "source": [
        "#data_type = {\"negatif\": np.float64, \"netral\": np.float64, \"positif\": np.float64}\n",
        "#data_type = {\"senang\": np.float64, \"sedih\": np.float64, \"kecewa\": np.float64, \"bingung\": np.float64, \"cinta\": np.float64}\n",
        "data_type = {\"ekonomi\": np.float64, \"fisik_tampilan\": np.float64, \"emosi\": np.float64, \"ekonomi\": np.float64, \"performa\": np.float64, \"layanan\":np.float64}"
      ],
      "execution_count": null,
      "outputs": []
    },
    {
      "cell_type": "code",
      "metadata": {
        "id": "ITxmxr-Rt2JZ"
      },
      "source": [
        "#, header= None, names=['Comment','ekonomi','emosi','performa','fisik_tampilan','layanan','aspek']\n",
        "data = pd.read_csv('drive/MyDrive/TA/newera/aspekmax.csv', dtype=data_type)\n",
        "data_test = pd.read_csv('drive/MyDrive/TA/newera/dataval.csv', dtype=data_type)\n",
        "data = data.dropna()\n",
        "data_test = data_test.dropna()\n",
        "data.Comment = data.Comment.astype(str)\n",
        "data_test.Comment = data_test.Comment.astype(str)"
      ],
      "execution_count": null,
      "outputs": []
    },
    {
      "cell_type": "code",
      "metadata": {
        "colab": {
          "base_uri": "https://localhost:8080/",
          "height": 572
        },
        "id": "_tDqd3GTtUfm",
        "outputId": "51b671b8-5504-4d4f-fa64-7efdccf3c2c6"
      },
      "source": [
        "data = data.sample(frac=1).reset_index(drop=True)\n",
        "data"
      ],
      "execution_count": null,
      "outputs": [
        {
          "output_type": "execute_result",
          "data": {
            "text/html": [
              "<div>\n",
              "<style scoped>\n",
              "    .dataframe tbody tr th:only-of-type {\n",
              "        vertical-align: middle;\n",
              "    }\n",
              "\n",
              "    .dataframe tbody tr th {\n",
              "        vertical-align: top;\n",
              "    }\n",
              "\n",
              "    .dataframe thead th {\n",
              "        text-align: right;\n",
              "    }\n",
              "</style>\n",
              "<table border=\"1\" class=\"dataframe\">\n",
              "  <thead>\n",
              "    <tr style=\"text-align: right;\">\n",
              "      <th></th>\n",
              "      <th>Unnamed: 0</th>\n",
              "      <th>Unnamed: 0.1</th>\n",
              "      <th>Comment</th>\n",
              "      <th>negatif</th>\n",
              "      <th>netral</th>\n",
              "      <th>positif</th>\n",
              "      <th>ekonomi</th>\n",
              "      <th>emosi</th>\n",
              "      <th>performa</th>\n",
              "      <th>fisik_tampilan</th>\n",
              "      <th>layanan</th>\n",
              "      <th>polaritas</th>\n",
              "      <th>aspek</th>\n",
              "    </tr>\n",
              "  </thead>\n",
              "  <tbody>\n",
              "    <tr>\n",
              "      <th>0</th>\n",
              "      <td>1430</td>\n",
              "      <td>612</td>\n",
              "      <td>sama banget gue dari rumah udah niat beli bodo...</td>\n",
              "      <td>0</td>\n",
              "      <td>0</td>\n",
              "      <td>1</td>\n",
              "      <td>0.0</td>\n",
              "      <td>0.0</td>\n",
              "      <td>0.0</td>\n",
              "      <td>0.0</td>\n",
              "      <td>1.0</td>\n",
              "      <td>positif</td>\n",
              "      <td>layanan</td>\n",
              "    </tr>\n",
              "    <tr>\n",
              "      <th>1</th>\n",
              "      <td>2579</td>\n",
              "      <td>590</td>\n",
              "      <td>diembargo maskapai hong kong airlines</td>\n",
              "      <td>1</td>\n",
              "      <td>0</td>\n",
              "      <td>0</td>\n",
              "      <td>0.0</td>\n",
              "      <td>0.0</td>\n",
              "      <td>0.0</td>\n",
              "      <td>0.0</td>\n",
              "      <td>1.0</td>\n",
              "      <td>negatif</td>\n",
              "      <td>layanan</td>\n",
              "    </tr>\n",
              "    <tr>\n",
              "      <th>2</th>\n",
              "      <td>295</td>\n",
              "      <td>897</td>\n",
              "      <td>emang gak bisa gue gak pakai tapi memang gak b...</td>\n",
              "      <td>1</td>\n",
              "      <td>0</td>\n",
              "      <td>0</td>\n",
              "      <td>1.0</td>\n",
              "      <td>0.0</td>\n",
              "      <td>0.0</td>\n",
              "      <td>0.0</td>\n",
              "      <td>0.0</td>\n",
              "      <td>negatif</td>\n",
              "      <td>ekonomi</td>\n",
              "    </tr>\n",
              "    <tr>\n",
              "      <th>3</th>\n",
              "      <td>1</td>\n",
              "      <td>1482</td>\n",
              "      <td>iya emang keren banget ini paling kurang kamer...</td>\n",
              "      <td>0</td>\n",
              "      <td>0</td>\n",
              "      <td>1</td>\n",
              "      <td>0.0</td>\n",
              "      <td>0.0</td>\n",
              "      <td>1.0</td>\n",
              "      <td>0.0</td>\n",
              "      <td>0.0</td>\n",
              "      <td>positif</td>\n",
              "      <td>performa</td>\n",
              "    </tr>\n",
              "    <tr>\n",
              "      <th>4</th>\n",
              "      <td>1880</td>\n",
              "      <td>2073</td>\n",
              "      <td>semoga berikan xiomi black shark 3 buat gantii...</td>\n",
              "      <td>0</td>\n",
              "      <td>1</td>\n",
              "      <td>0</td>\n",
              "      <td>0.0</td>\n",
              "      <td>1.0</td>\n",
              "      <td>0.0</td>\n",
              "      <td>0.0</td>\n",
              "      <td>0.0</td>\n",
              "      <td>netral</td>\n",
              "      <td>emosi</td>\n",
              "    </tr>\n",
              "    <tr>\n",
              "      <th>...</th>\n",
              "      <td>...</td>\n",
              "      <td>...</td>\n",
              "      <td>...</td>\n",
              "      <td>...</td>\n",
              "      <td>...</td>\n",
              "      <td>...</td>\n",
              "      <td>...</td>\n",
              "      <td>...</td>\n",
              "      <td>...</td>\n",
              "      <td>...</td>\n",
              "      <td>...</td>\n",
              "      <td>...</td>\n",
              "      <td>...</td>\n",
              "    </tr>\n",
              "    <tr>\n",
              "      <th>5154</th>\n",
              "      <td>2040</td>\n",
              "      <td>2488</td>\n",
              "      <td>eunbi rl hpnya 11 red kalau hsw apa ya</td>\n",
              "      <td>0</td>\n",
              "      <td>1</td>\n",
              "      <td>0</td>\n",
              "      <td>0.0</td>\n",
              "      <td>0.0</td>\n",
              "      <td>0.0</td>\n",
              "      <td>1.0</td>\n",
              "      <td>0.0</td>\n",
              "      <td>netral</td>\n",
              "      <td>fisik_tampilan</td>\n",
              "    </tr>\n",
              "    <tr>\n",
              "      <th>5155</th>\n",
              "      <td>357</td>\n",
              "      <td>2857</td>\n",
              "      <td>kita kan dulu nyesel gasi pas series keluar wa...</td>\n",
              "      <td>0</td>\n",
              "      <td>1</td>\n",
              "      <td>0</td>\n",
              "      <td>0.0</td>\n",
              "      <td>0.0</td>\n",
              "      <td>0.0</td>\n",
              "      <td>1.0</td>\n",
              "      <td>0.0</td>\n",
              "      <td>netral</td>\n",
              "      <td>fisik_tampilan</td>\n",
              "    </tr>\n",
              "    <tr>\n",
              "      <th>5156</th>\n",
              "      <td>2595</td>\n",
              "      <td>643</td>\n",
              "      <td>kamera cahaya lembut</td>\n",
              "      <td>0</td>\n",
              "      <td>0</td>\n",
              "      <td>1</td>\n",
              "      <td>0.0</td>\n",
              "      <td>0.0</td>\n",
              "      <td>1.0</td>\n",
              "      <td>0.0</td>\n",
              "      <td>0.0</td>\n",
              "      <td>positif</td>\n",
              "      <td>performa</td>\n",
              "    </tr>\n",
              "    <tr>\n",
              "      <th>5157</th>\n",
              "      <td>2154</td>\n",
              "      <td>481</td>\n",
              "      <td>tapi dah habis stock rasanya</td>\n",
              "      <td>1</td>\n",
              "      <td>0</td>\n",
              "      <td>0</td>\n",
              "      <td>0.0</td>\n",
              "      <td>1.0</td>\n",
              "      <td>0.0</td>\n",
              "      <td>0.0</td>\n",
              "      <td>0.0</td>\n",
              "      <td>negatif</td>\n",
              "      <td>emosi</td>\n",
              "    </tr>\n",
              "    <tr>\n",
              "      <th>5158</th>\n",
              "      <td>1336</td>\n",
              "      <td>1876</td>\n",
              "      <td>kok selama ini beli hape sales ama viro nya nd...</td>\n",
              "      <td>1</td>\n",
              "      <td>0</td>\n",
              "      <td>0</td>\n",
              "      <td>0.0</td>\n",
              "      <td>0.0</td>\n",
              "      <td>0.0</td>\n",
              "      <td>0.0</td>\n",
              "      <td>1.0</td>\n",
              "      <td>negatif</td>\n",
              "      <td>layanan</td>\n",
              "    </tr>\n",
              "  </tbody>\n",
              "</table>\n",
              "<p>5159 rows × 13 columns</p>\n",
              "</div>"
            ],
            "text/plain": [
              "      Unnamed: 0  Unnamed: 0.1  ... polaritas           aspek\n",
              "0           1430           612  ...   positif         layanan\n",
              "1           2579           590  ...   negatif         layanan\n",
              "2            295           897  ...   negatif         ekonomi\n",
              "3              1          1482  ...   positif        performa\n",
              "4           1880          2073  ...    netral           emosi\n",
              "...          ...           ...  ...       ...             ...\n",
              "5154        2040          2488  ...    netral  fisik_tampilan\n",
              "5155         357          2857  ...    netral  fisik_tampilan\n",
              "5156        2595           643  ...   positif        performa\n",
              "5157        2154           481  ...   negatif           emosi\n",
              "5158        1336          1876  ...   negatif         layanan\n",
              "\n",
              "[5159 rows x 13 columns]"
            ]
          },
          "metadata": {
            "tags": []
          },
          "execution_count": 4
        }
      ]
    },
    {
      "cell_type": "code",
      "metadata": {
        "colab": {
          "base_uri": "https://localhost:8080/"
        },
        "id": "grJDQMk_uEGm",
        "outputId": "d8f03440-7613-43ec-d8cd-bd9e48e0fbf5"
      },
      "source": [
        "#label = ['negatif', 'netral', 'positif']\n",
        "#label = ['bingung', 'cinta', 'kecewa', 'sedih', 'senang']\n",
        "label = ['ekonomi', 'emosi', 'fisik_tampilan', 'layanan', 'performa']\n",
        "y_train = data[label].values\n",
        "y_test = data_test[label].values\n",
        "list_sentences_train = data[\"Comment\"]\n",
        "list_sentences_test = data_test[\"Comment\"]\n",
        "list_sentences_test"
      ],
      "execution_count": null,
      "outputs": [
        {
          "output_type": "execute_result",
          "data": {
            "text/plain": [
              "0      kejar kamera kalau jenis gaming kalau tak kisa...\n",
              "1      lagi nyari warna ungu trus tetiba keinget kalo...\n",
              "2      udah pernah pake soalnya kurleb 5 tahun jadi g...\n",
              "3                             semakin depan bismillah f3\n",
              "4      5 sebab mengapa f3 5g antara peranti terbaik p...\n",
              "                             ...                        \n",
              "287                         bingung mending x3 atau huft\n",
              "288    iyak ni seri nya dari deh keknya tapi emang sp...\n",
              "289                          sepupu ku pake 11 bagus kok\n",
              "290    ada pakai max dah update ke 146 and kamera dep...\n",
              "291                              semoga dapat hadiah ini\n",
              "Name: Comment, Length: 292, dtype: object"
            ]
          },
          "metadata": {
            "tags": []
          },
          "execution_count": 5
        }
      ]
    },
    {
      "cell_type": "code",
      "metadata": {
        "id": "qlpuNJrYuJej"
      },
      "source": [
        "from sklearn import preprocessing"
      ],
      "execution_count": null,
      "outputs": []
    },
    {
      "cell_type": "code",
      "metadata": {
        "colab": {
          "base_uri": "https://localhost:8080/"
        },
        "id": "u1DZacMiuQLF",
        "outputId": "541f90bc-1ff4-471c-a8a0-868785cc5699"
      },
      "source": [
        "le = preprocessing.LabelEncoder()\n",
        "y_test2 = le.fit(data['aspek'])\n",
        "le.classes_"
      ],
      "execution_count": null,
      "outputs": [
        {
          "output_type": "execute_result",
          "data": {
            "text/plain": [
              "array(['ekonomi', 'emosi', 'fisik_tampilan', 'layanan', 'performa'],\n",
              "      dtype=object)"
            ]
          },
          "metadata": {
            "tags": []
          },
          "execution_count": 7
        }
      ]
    },
    {
      "cell_type": "code",
      "metadata": {
        "colab": {
          "base_uri": "https://localhost:8080/"
        },
        "id": "pmuM0MvxuRrK",
        "outputId": "300f50e0-6efc-4c93-ff9e-fe990e0f0247"
      },
      "source": [
        "max_features = 100000\n",
        "tokenizer = Tokenizer(num_words=max_features)\n",
        "tokenizer.fit_on_texts(list(list_sentences_train))\n",
        "tokenizer.fit_on_texts(list(list_sentences_test))\n",
        "list_tokenized_train = tokenizer.texts_to_sequences(list_sentences_train)\n",
        "list_tokenized_test = tokenizer.texts_to_sequences(list_sentences_test)\n",
        "list_tokenized_test[1]"
      ],
      "execution_count": null,
      "outputs": [
        {
          "output_type": "execute_result",
          "data": {
            "text/plain": [
              "[40,\n",
              " 306,\n",
              " 216,\n",
              " 437,\n",
              " 126,\n",
              " 3800,\n",
              " 6128,\n",
              " 4,\n",
              " 1,\n",
              " 117,\n",
              " 429,\n",
              " 216,\n",
              " 437,\n",
              " 13,\n",
              " 11,\n",
              " 1998,\n",
              " 977,\n",
              " 2010,\n",
              " 48,\n",
              " 747,\n",
              " 15,\n",
              " 6129,\n",
              " 82,\n",
              " 6130,\n",
              " 11,\n",
              " 2343,\n",
              " 15,\n",
              " 29,\n",
              " 2837,\n",
              " 7,\n",
              " 90,\n",
              " 3385]"
            ]
          },
          "metadata": {
            "tags": []
          },
          "execution_count": 8
        }
      ]
    },
    {
      "cell_type": "code",
      "metadata": {
        "colab": {
          "base_uri": "https://localhost:8080/",
          "height": 52
        },
        "id": "LxAmKhbWuiFb",
        "outputId": "a2df2ed3-f724-425d-da2d-4eb17a444d6f"
      },
      "source": [
        "list_sentences_test[1]"
      ],
      "execution_count": null,
      "outputs": [
        {
          "output_type": "execute_result",
          "data": {
            "application/vnd.google.colaboratory.intrinsic+json": {
              "type": "string"
            },
            "text/plain": [
              "'lagi nyari warna ungu trus tetiba keinget kalo ada seri s warna ungu nya sama oiya s20 fe pas cek harga secondnya sekarang omegaat sama ma harga baru saatnya ga nih gaes'"
            ]
          },
          "metadata": {
            "tags": []
          },
          "execution_count": 9
        }
      ]
    },
    {
      "cell_type": "code",
      "metadata": {
        "colab": {
          "base_uri": "https://localhost:8080/"
        },
        "id": "poMppyA4ukmK",
        "outputId": "080d786e-1857-4428-eb0a-308fd3ef187d"
      },
      "source": [
        "maxlen = 50\n",
        "X_train = pad_sequences(list_tokenized_train, maxlen=maxlen)\n",
        "X_test = pad_sequences(list_tokenized_test, maxlen=maxlen)\n",
        "X_train"
      ],
      "execution_count": null,
      "outputs": [
        {
          "output_type": "execute_result",
          "data": {
            "text/plain": [
              "array([[   0,    0,    0, ...,   47,  135,  361],\n",
              "       [   0,    0,    0, ...,  370,  371,  809],\n",
              "       [   0,    0,    0, ...,  485,   17, 2057],\n",
              "       ...,\n",
              "       [   0,    0,    0, ...,   28, 2338,  710],\n",
              "       [   0,    0,    0, ...,  502,  672, 1103],\n",
              "       [   0,    0,    0, ...,  218,  165,  884]], dtype=int32)"
            ]
          },
          "metadata": {
            "tags": []
          },
          "execution_count": 10
        }
      ]
    },
    {
      "cell_type": "code",
      "metadata": {
        "id": "5h-6cVRqumrD"
      },
      "source": [
        "def create_fold_embeddings(embeddings_dim, key_vector):\n",
        "    \n",
        "    emb_init_values = []\n",
        "    unk = []\n",
        "\n",
        "    a = 0\n",
        "    b = 0\n",
        "\n",
        "    for word, i in tokenizer.word_index.items():  # Untuk memastikan bahwa urut\n",
        "        if word == '<unk>':\n",
        "            emb_init_values.append(np.random.uniform(-0.25, 0.25, embeddings_dim).astype('float32'))\n",
        "\n",
        "        elif word == '<pad>':\n",
        "            emb_init_values.append(np.zeros(embeddings_dim).astype('float32'))\n",
        "                    \n",
        "        elif word in key_vector.wv.vocab:\n",
        "            emb_init_values.append(key_vector.wv.word_vec(word))\n",
        "            b = b+1\n",
        "        else:\n",
        "            emb_init_values.append(np.random.uniform(-0.25, 0.25, embeddings_dim).astype('float32'))\n",
        "            a = a+1\n",
        "            unk.append(word)\n",
        "            # print(word)\n",
        "    emb_init_values.append(np.random.uniform(-0.25, 0.25, embeddings_dim).astype('float32'))\n",
        "    known_word = b\n",
        "    unknown_word = a\n",
        "\n",
        "    print(known_word, unknown_word)\n",
        "\n",
        "    return known_word, unknown_word, emb_init_values"
      ],
      "execution_count": null,
      "outputs": []
    },
    {
      "cell_type": "code",
      "metadata": {
        "colab": {
          "base_uri": "https://localhost:8080/"
        },
        "id": "xKYmM_jcupma",
        "outputId": "8aad3fe0-de3d-4116-a7df-9673c81e5484"
      },
      "source": [
        "#Loading pre-trained embeddings\n",
        "print(\"loading word2vec...\")\n",
        "# start = time.time()\n",
        "word_vectors = KeyedVectors.load_word2vec_format(\"drive/MyDrive/TA/modelapik.bin\",\n",
        "                                                 binary=\"True\", unicode_errors='ignore')\n",
        "# end = time.time()\n",
        "# print(\"word2vec loading done in {} seconds\".format(end-start))\n",
        "\n",
        "word2vec = word_vectors\n",
        "embed_dim = 300"
      ],
      "execution_count": null,
      "outputs": [
        {
          "output_type": "stream",
          "text": [
            "loading word2vec...\n"
          ],
          "name": "stdout"
        }
      ]
    },
    {
      "cell_type": "code",
      "metadata": {
        "colab": {
          "base_uri": "https://localhost:8080/"
        },
        "id": "PZhNngz5u2nA",
        "outputId": "0a4aa49e-7e51-42c8-f2a6-4d12170348c1"
      },
      "source": [
        "known_word, unknown_word, emb_init_values = create_fold_embeddings(embed_dim, word_vectors)\n",
        "emb_init_values = np.array(emb_init_values)\n",
        "print(\"known words:\", known_word)\n",
        "print(\"unknown words:\", unknown_word)"
      ],
      "execution_count": null,
      "outputs": [
        {
          "output_type": "stream",
          "text": [
            "5844 745\n",
            "known words: 5844\n",
            "unknown words: 745\n"
          ],
          "name": "stdout"
        },
        {
          "output_type": "stream",
          "text": [
            "/usr/local/lib/python3.7/dist-packages/ipykernel_launcher.py:16: DeprecationWarning: Call to deprecated `wv` (Attribute will be removed in 4.0.0, use self instead).\n",
            "  app.launch_new_instance()\n",
            "/usr/local/lib/python3.7/dist-packages/ipykernel_launcher.py:17: DeprecationWarning: Call to deprecated `wv` (Attribute will be removed in 4.0.0, use self instead).\n"
          ],
          "name": "stderr"
        }
      ]
    },
    {
      "cell_type": "code",
      "metadata": {
        "colab": {
          "base_uri": "https://localhost:8080/"
        },
        "id": "7rgLg02Bu4rd",
        "outputId": "1c453289-1d18-4c64-b2d7-d9be4073f277"
      },
      "source": [
        "emb_init_values.shape"
      ],
      "execution_count": null,
      "outputs": [
        {
          "output_type": "execute_result",
          "data": {
            "text/plain": [
              "(6590, 300)"
            ]
          },
          "metadata": {
            "tags": []
          },
          "execution_count": 14
        }
      ]
    },
    {
      "cell_type": "code",
      "metadata": {
        "colab": {
          "base_uri": "https://localhost:8080/"
        },
        "id": "iqUOhMKRu9dw",
        "outputId": "e6711a77-d37e-4fb1-bad8-7459394713c8"
      },
      "source": [
        "emb_init_values"
      ],
      "execution_count": null,
      "outputs": [
        {
          "output_type": "execute_result",
          "data": {
            "text/plain": [
              "array([[ 0.09057077, -0.13211627, -0.07370127, ...,  0.01723903,\n",
              "        -0.01558329,  0.23495317],\n",
              "       [ 0.23018308,  0.36727202,  0.02258815, ..., -0.08636202,\n",
              "         0.10429382,  0.01294505],\n",
              "       [ 0.16070516, -0.00104823, -0.03247326, ..., -0.02509324,\n",
              "        -0.014336  ,  0.13993736],\n",
              "       ...,\n",
              "       [ 0.05195912,  0.07651727, -0.5153454 , ..., -0.58588165,\n",
              "         0.6745723 ,  0.36162528],\n",
              "       [ 0.10345185, -0.4586435 , -0.26562354, ..., -0.21579528,\n",
              "         0.17864285,  0.6146071 ],\n",
              "       [-0.18348247,  0.2084816 ,  0.15202554, ...,  0.02773641,\n",
              "        -0.01960012, -0.04912846]], dtype=float32)"
            ]
          },
          "metadata": {
            "tags": []
          },
          "execution_count": 15
        }
      ]
    },
    {
      "cell_type": "code",
      "metadata": {
        "id": "ROPEIrWIu-0O"
      },
      "source": [
        "from keras.wrappers.scikit_learn import KerasClassifier\n",
        "from sklearn.metrics import (\n",
        "    precision_score, \n",
        "    recall_score, \n",
        "    f1_score, \n",
        "    classification_report,\n",
        "    accuracy_score\n",
        ")"
      ],
      "execution_count": null,
      "outputs": []
    },
    {
      "cell_type": "code",
      "metadata": {
        "id": "cvruEtmMvA4j"
      },
      "source": [
        "from tensorflow.keras.callbacks import ReduceLROnPlateau, EarlyStopping\n",
        "\n",
        "callbacks = [ReduceLROnPlateau(monitor='val_loss', patience=5, cooldown=0),\n",
        "             EarlyStopping(monitor='val_accuracy', min_delta=1e-4, patience=5)]"
      ],
      "execution_count": null,
      "outputs": []
    },
    {
      "cell_type": "code",
      "metadata": {
        "id": "vvwLFF6fvCag"
      },
      "source": [
        "vocab_size=len(tokenizer.word_index)+1\n",
        "embedding_dim = 300\n",
        "num_filters = 256\n",
        "kernel_size = 12\n",
        "batch_size = 10"
      ],
      "execution_count": null,
      "outputs": []
    },
    {
      "cell_type": "code",
      "metadata": {
        "id": "t-AuO6o9vDwB"
      },
      "source": [
        "model = Sequential()\n",
        "model.add(layers.Embedding(vocab_size, embedding_dim,weights=[emb_init_values], input_length=maxlen, trainable = False))\n",
        "model.add(layers.Conv1D(num_filters, kernel_size, padding =\"same\",activation='relu'))\n",
        "model.add(GlobalMaxPooling1D())\n",
        "model.add(Dropout(0.005))\n",
        "model.add(layers.Dense(35, activation='relu'))\n",
        "model.add(layers.Dense(5, activation='softmax'))\n",
        "model.compile(optimizer='adam',\n",
        "              loss='binary_crossentropy',\n",
        "              metrics=['accuracy'])"
      ],
      "execution_count": null,
      "outputs": []
    },
    {
      "cell_type": "code",
      "metadata": {
        "id": "uX1n-YiOvFvT"
      },
      "source": [
        "history = model.fit(X_train, y_train,\n",
        "                    epochs=50,\n",
        "                    verbose=False,\n",
        "                    validation_split=0.1,\n",
        "                    callbacks=callbacks,\n",
        "                    batch_size=batch_size)"
      ],
      "execution_count": null,
      "outputs": []
    },
    {
      "cell_type": "code",
      "metadata": {
        "colab": {
          "base_uri": "https://localhost:8080/"
        },
        "id": "zKu8NjQgvI26",
        "outputId": "e50518ca-179f-42d1-f8e0-20345516d9a9"
      },
      "source": [
        "history.history['val_accuracy']"
      ],
      "execution_count": null,
      "outputs": [
        {
          "output_type": "execute_result",
          "data": {
            "text/plain": [
              "[0.8527131676673889,\n",
              " 0.8914728760719299,\n",
              " 0.9011628031730652,\n",
              " 0.9011628031730652,\n",
              " 0.8972868323326111,\n",
              " 0.9031007885932922,\n",
              " 0.8856589198112488,\n",
              " 0.895348846912384,\n",
              " 0.8972868323326111,\n",
              " 0.8972868323326111,\n",
              " 0.8972868323326111]"
            ]
          },
          "metadata": {
            "tags": []
          },
          "execution_count": 21
        }
      ]
    },
    {
      "cell_type": "code",
      "metadata": {
        "colab": {
          "base_uri": "https://localhost:8080/",
          "height": 947
        },
        "id": "3sISH6qxvKXj",
        "outputId": "25201adb-b52f-4df9-d0d5-3c97958f21a3"
      },
      "source": [
        "print(model.summary())\n",
        "print(history.history.keys())\n",
        "# summarize history for accuracy\n",
        "plt.plot(history.history['accuracy'])\n",
        "plt.plot(history.history['val_accuracy'])\n",
        "plt.title('model accuracy')\n",
        "plt.ylabel('accuracy')\n",
        "plt.xlabel('epoch')\n",
        "plt.legend(['train', 'test'], loc='upper left')\n",
        "plt.show()\n",
        "# summarize history for loss\n",
        "plt.plot(history.history['loss'])\n",
        "plt.plot(history.history['val_loss'])\n",
        "plt.title('model loss')\n",
        "plt.ylabel('loss')\n",
        "plt.xlabel('epoch')\n",
        "plt.legend(['train', 'test'], loc='upper left')\n",
        "plt.show()"
      ],
      "execution_count": null,
      "outputs": [
        {
          "output_type": "stream",
          "text": [
            "Model: \"sequential\"\n",
            "_________________________________________________________________\n",
            "Layer (type)                 Output Shape              Param #   \n",
            "=================================================================\n",
            "embedding (Embedding)        (None, 50, 300)           1977000   \n",
            "_________________________________________________________________\n",
            "conv1d (Conv1D)              (None, 50, 256)           921856    \n",
            "_________________________________________________________________\n",
            "global_max_pooling1d (Global (None, 256)               0         \n",
            "_________________________________________________________________\n",
            "dropout (Dropout)            (None, 256)               0         \n",
            "_________________________________________________________________\n",
            "dense (Dense)                (None, 35)                8995      \n",
            "_________________________________________________________________\n",
            "dense_1 (Dense)              (None, 5)                 180       \n",
            "=================================================================\n",
            "Total params: 2,908,031\n",
            "Trainable params: 931,031\n",
            "Non-trainable params: 1,977,000\n",
            "_________________________________________________________________\n",
            "None\n",
            "dict_keys(['loss', 'accuracy', 'val_loss', 'val_accuracy', 'lr'])\n"
          ],
          "name": "stdout"
        },
        {
          "output_type": "display_data",
          "data": {
            "image/png": "[encoded data removed]",
            "text/plain": [
              "<Figure size 432x288 with 1 Axes>"
            ]
          },
          "metadata": {
            "tags": [],
            "needs_background": "light"
          }
        },
        {
          "output_type": "display_data",
          "data": {
            "image/png": "[encoded data removed]",
            "text/plain": [
              "<Figure size 432x288 with 1 Axes>"
            ]
          },
          "metadata": {
            "tags": [],
            "needs_background": "light"
          }
        }
      ]
    },
    {
      "cell_type": "code",
      "metadata": {
        "colab": {
          "base_uri": "https://localhost:8080/"
        },
        "id": "RFtAigHhvLzj",
        "outputId": "06c877cd-026f-422c-8871-3bf967a2ec50"
      },
      "source": [
        "loss, accuracy = model.evaluate(X_train, y_train, verbose=False)\n",
        "print(\"Training Accuracy  : {:.4f}\".format(accuracy))\n",
        "#loss, accuracy = model.evaluate(X_test, y_test, verbose=False)\n",
        "#print(\"Testing Accuracy   : {:.4f}\".format(accuracy))\n",
        "loss, accuracy = model.evaluate(X_test, y_test, verbose=False)\n",
        "print(\"Validation Accuracy: {:.4f}\".format(accuracy))"
      ],
      "execution_count": null,
      "outputs": [
        {
          "output_type": "stream",
          "text": [
            "Training Accuracy  : 0.9897\n",
            "Validation Accuracy: 0.5616\n"
          ],
          "name": "stdout"
        }
      ]
    },
    {
      "cell_type": "code",
      "metadata": {
        "colab": {
          "base_uri": "https://localhost:8080/"
        },
        "id": "ezmyhc7qD3HK",
        "outputId": "0550b726-dc59-4120-ea3a-f22a91fffb1a"
      },
      "source": [
        "model.evaluate(X_test, y_test, verbose=None)"
      ],
      "execution_count": null,
      "outputs": [
        {
          "output_type": "execute_result",
          "data": {
            "text/plain": [
              "[0.7413987517356873, 0.5616438388824463]"
            ]
          },
          "metadata": {
            "tags": []
          },
          "execution_count": 24
        }
      ]
    },
    {
      "cell_type": "code",
      "metadata": {
        "colab": {
          "base_uri": "https://localhost:8080/"
        },
        "id": "SS0xtAnBvNzs",
        "outputId": "f571ce3d-21a6-451e-c029-c2c42cf2b257"
      },
      "source": [
        "y_pred = model.predict([X_test], batch_size=batch_size, verbose=False)\n",
        "y_pred"
      ],
      "execution_count": null,
      "outputs": [
        {
          "output_type": "execute_result",
          "data": {
            "text/plain": [
              "array([[8.5887527e-01, 9.5694733e-05, 2.0744809e-04, 6.0834054e-07,\n",
              "        1.4082099e-01],\n",
              "       [1.1495676e-01, 1.1777706e-05, 8.8001442e-01, 4.9972761e-04,\n",
              "        4.5171976e-03],\n",
              "       [4.2294912e-02, 6.7093354e-01, 2.7091315e-01, 1.2288269e-06,\n",
              "        1.5857130e-02],\n",
              "       ...,\n",
              "       [2.4147738e-07, 9.9996591e-01, 9.1580487e-06, 2.8206402e-09,\n",
              "        2.4702877e-05],\n",
              "       [1.4442452e-06, 2.2269815e-05, 1.0892173e-06, 7.1523928e-08,\n",
              "        9.9997509e-01],\n",
              "       [1.6838585e-05, 9.9882859e-01, 1.6938266e-05, 6.8401282e-06,\n",
              "        1.1308676e-03]], dtype=float32)"
            ]
          },
          "metadata": {
            "tags": []
          },
          "execution_count": 25
        }
      ]
    },
    {
      "cell_type": "code",
      "metadata": {
        "id": "b19w9g5GvzOa"
      },
      "source": [
        "y_pred = np.argmax(y_pred, axis=1)"
      ],
      "execution_count": null,
      "outputs": []
    },
    {
      "cell_type": "code",
      "metadata": {
        "colab": {
          "base_uri": "https://localhost:8080/"
        },
        "id": "y0L1GNfYvPbH",
        "outputId": "79711419-6e57-41b7-f3a0-a220fcd4a5fe"
      },
      "source": [
        "polar = le.transform(data_test['aspek'])\n",
        "#polar = np.array(polar.astype(str).values)\n",
        "polar"
      ],
      "execution_count": null,
      "outputs": [
        {
          "output_type": "execute_result",
          "data": {
            "text/plain": [
              "array([4, 2, 1, 1, 4, 2, 4, 0, 1, 4, 0, 0, 4, 1, 1, 1, 1, 1, 1, 4, 0, 1,\n",
              "       4, 0, 2, 1, 2, 0, 1, 1, 4, 4, 3, 1, 1, 4, 2, 4, 3, 4, 0, 3, 4, 4,\n",
              "       4, 1, 4, 1, 1, 1, 1, 4, 4, 1, 4, 3, 2, 1, 3, 4, 2, 1, 1, 4, 1, 4,\n",
              "       3, 0, 0, 1, 4, 4, 1, 1, 0, 4, 1, 1, 1, 3, 0, 4, 4, 2, 2, 1, 1, 1,\n",
              "       0, 4, 4, 4, 4, 4, 1, 4, 4, 4, 1, 3, 1, 1, 1, 2, 0, 0, 1, 0, 4, 0,\n",
              "       0, 1, 3, 0, 4, 4, 1, 1, 0, 1, 1, 1, 4, 4, 1, 1, 0, 4, 4, 1, 1, 1,\n",
              "       4, 4, 1, 4, 1, 4, 1, 1, 4, 4, 4, 2, 1, 4, 1, 1, 1, 1, 0, 1, 3, 1,\n",
              "       4, 4, 1, 1, 4, 4, 4, 1, 1, 2, 1, 1, 4, 4, 1, 1, 4, 0, 4, 2, 2, 1,\n",
              "       3, 1, 4, 1, 1, 1, 1, 2, 0, 4, 0, 0, 2, 4, 4, 1, 1, 1, 1, 1, 4, 1,\n",
              "       1, 2, 1, 1, 1, 4, 1, 2, 1, 4, 0, 4, 4, 4, 4, 1, 4, 0, 2, 3, 0, 0,\n",
              "       1, 1, 1, 4, 1, 1, 4, 4, 2, 3, 1, 4, 4, 2, 4, 1, 1, 4, 0, 4, 2, 0,\n",
              "       4, 1, 1, 1, 0, 4, 1, 1, 4, 4, 2, 4, 1, 4, 1, 1, 2, 1, 1, 1, 4, 1,\n",
              "       4, 4, 1, 3, 1, 0, 0, 1, 1, 1, 4, 3, 1, 0, 4, 4, 1, 2, 2, 0, 1, 1,\n",
              "       1, 1, 0, 4, 4, 1])"
            ]
          },
          "metadata": {
            "tags": []
          },
          "execution_count": 27
        }
      ]
    },
    {
      "cell_type": "code",
      "metadata": {
        "colab": {
          "base_uri": "https://localhost:8080/"
        },
        "id": "SAG_kXuJvSua",
        "outputId": "4f44655c-cda5-4883-c309-de0d3ae24668"
      },
      "source": [
        "from sklearn.metrics import confusion_matrix\n",
        "cm = confusion_matrix(y_pred, polar)\n",
        "cm"
      ],
      "execution_count": null,
      "outputs": [
        {
          "output_type": "execute_result",
          "data": {
            "text/plain": [
              "array([[ 12,   1,   1,   1,   8],\n",
              "       [ 18, 106,  19,   9,  38],\n",
              "       [  1,   2,   1,   2,   2],\n",
              "       [  0,   0,   0,   0,   0],\n",
              "       [  6,  12,   5,   3,  45]])"
            ]
          },
          "metadata": {
            "tags": []
          },
          "execution_count": 28
        }
      ]
    },
    {
      "cell_type": "code",
      "metadata": {
        "colab": {
          "base_uri": "https://localhost:8080/",
          "height": 351
        },
        "id": "gKUVfWmQvUeD",
        "outputId": "a930d630-9887-40d9-fd14-9125b0676586"
      },
      "source": [
        "report = classification_report(y_pred, polar, output_dict=True)\n",
        "report = pd.DataFrame(report)\n",
        "report = report.transpose()\n",
        "report"
      ],
      "execution_count": null,
      "outputs": [
        {
          "output_type": "stream",
          "text": [
            "/usr/local/lib/python3.7/dist-packages/sklearn/metrics/_classification.py:1272: UndefinedMetricWarning: Recall and F-score are ill-defined and being set to 0.0 in labels with no true samples. Use `zero_division` parameter to control this behavior.\n",
            "  _warn_prf(average, modifier, msg_start, len(result))\n"
          ],
          "name": "stderr"
        },
        {
          "output_type": "execute_result",
          "data": {
            "text/html": [
              "<div>\n",
              "<style scoped>\n",
              "    .dataframe tbody tr th:only-of-type {\n",
              "        vertical-align: middle;\n",
              "    }\n",
              "\n",
              "    .dataframe tbody tr th {\n",
              "        vertical-align: top;\n",
              "    }\n",
              "\n",
              "    .dataframe thead th {\n",
              "        text-align: right;\n",
              "    }\n",
              "</style>\n",
              "<table border=\"1\" class=\"dataframe\">\n",
              "  <thead>\n",
              "    <tr style=\"text-align: right;\">\n",
              "      <th></th>\n",
              "      <th>precision</th>\n",
              "      <th>recall</th>\n",
              "      <th>f1-score</th>\n",
              "      <th>support</th>\n",
              "    </tr>\n",
              "  </thead>\n",
              "  <tbody>\n",
              "    <tr>\n",
              "      <th>0</th>\n",
              "      <td>0.324324</td>\n",
              "      <td>0.521739</td>\n",
              "      <td>0.400000</td>\n",
              "      <td>23.000000</td>\n",
              "    </tr>\n",
              "    <tr>\n",
              "      <th>1</th>\n",
              "      <td>0.876033</td>\n",
              "      <td>0.557895</td>\n",
              "      <td>0.681672</td>\n",
              "      <td>190.000000</td>\n",
              "    </tr>\n",
              "    <tr>\n",
              "      <th>2</th>\n",
              "      <td>0.038462</td>\n",
              "      <td>0.125000</td>\n",
              "      <td>0.058824</td>\n",
              "      <td>8.000000</td>\n",
              "    </tr>\n",
              "    <tr>\n",
              "      <th>3</th>\n",
              "      <td>0.000000</td>\n",
              "      <td>0.000000</td>\n",
              "      <td>0.000000</td>\n",
              "      <td>0.000000</td>\n",
              "    </tr>\n",
              "    <tr>\n",
              "      <th>4</th>\n",
              "      <td>0.483871</td>\n",
              "      <td>0.633803</td>\n",
              "      <td>0.548780</td>\n",
              "      <td>71.000000</td>\n",
              "    </tr>\n",
              "    <tr>\n",
              "      <th>accuracy</th>\n",
              "      <td>0.561644</td>\n",
              "      <td>0.561644</td>\n",
              "      <td>0.561644</td>\n",
              "      <td>0.561644</td>\n",
              "    </tr>\n",
              "    <tr>\n",
              "      <th>macro avg</th>\n",
              "      <td>0.344538</td>\n",
              "      <td>0.367687</td>\n",
              "      <td>0.337855</td>\n",
              "      <td>292.000000</td>\n",
              "    </tr>\n",
              "    <tr>\n",
              "      <th>weighted avg</th>\n",
              "      <td>0.714275</td>\n",
              "      <td>0.561644</td>\n",
              "      <td>0.610109</td>\n",
              "      <td>292.000000</td>\n",
              "    </tr>\n",
              "  </tbody>\n",
              "</table>\n",
              "</div>"
            ],
            "text/plain": [
              "              precision    recall  f1-score     support\n",
              "0              0.324324  0.521739  0.400000   23.000000\n",
              "1              0.876033  0.557895  0.681672  190.000000\n",
              "2              0.038462  0.125000  0.058824    8.000000\n",
              "3              0.000000  0.000000  0.000000    0.000000\n",
              "4              0.483871  0.633803  0.548780   71.000000\n",
              "accuracy       0.561644  0.561644  0.561644    0.561644\n",
              "macro avg      0.344538  0.367687  0.337855  292.000000\n",
              "weighted avg   0.714275  0.561644  0.610109  292.000000"
            ]
          },
          "metadata": {
            "tags": []
          },
          "execution_count": 29
        }
      ]
    },
    {
      "cell_type": "code",
      "metadata": {
        "id": "DZpEiTEjvV3a"
      },
      "source": [
        "import seaborn as sns"
      ],
      "execution_count": null,
      "outputs": []
    },
    {
      "cell_type": "code",
      "metadata": {
        "id": "ddtWLwbXvYV_"
      },
      "source": [
        "def ConfusionMatrix(y_pred_class, sentimen_val):\n",
        "    # Compute and plot the Confusion matrix\n",
        "    #cf_matrix = confusion_matrix(y_test, y_pred)\n",
        "\n",
        "    categories  = ['ekonomi', 'emosi', 'fisik_tampilan', 'layanan', 'performa']\n",
        "    #categories  = ['negatif', 'netral', 'positif']\n",
        "    group_names = ['True Neg','False Pos', 'False Neg','True Pos']\n",
        "    group_percentages = ['{0:.2%}'.format(value) for value in cm.flatten() / np.sum(cm)]\n",
        "\n",
        "    labels = [f'{v1}\\n{v2}' for v1, v2 in zip(group_names,group_percentages)]\n",
        "    labels = np.asarray(labels).reshape(2,2)\n",
        "\n",
        "    sns.heatmap(cm, annot = True, cmap = 'Reds',fmt = '',\n",
        "                xticklabels = categories, yticklabels = categories)\n",
        "\n",
        "    plt.xlabel(\"Predicted values\", fontdict = {'size':14}, labelpad = 10)\n",
        "    plt.ylabel(\"Actual values\"   , fontdict = {'size':14}, labelpad = 10)\n",
        "    plt.title (\"Confusion Matrix\", fontdict = {'size':18}, pad = 20)"
      ],
      "execution_count": null,
      "outputs": []
    },
    {
      "cell_type": "code",
      "metadata": {
        "colab": {
          "base_uri": "https://localhost:8080/",
          "height": 383
        },
        "id": "xDCRUdW3vZ88",
        "outputId": "b64596fe-6818-442b-d3bc-3371c27c3072"
      },
      "source": [
        "ConfusionMatrix(y_pred, polar)"
      ],
      "execution_count": null,
      "outputs": [
        {
          "output_type": "display_data",
          "data": {
            "image/png": "[encoded data removed]",
            "text/plain": [
              "<Figure size 432x288 with 2 Axes>"
            ]
          },
          "metadata": {
            "tags": [],
            "needs_background": "light"
          }
        }
      ]
    },
    {
      "cell_type": "code",
      "metadata": {
        "id": "HrAMlGUTv6Vn"
      },
      "source": [
        ""
      ],
      "execution_count": null,
      "outputs": []
    }
  ]
}